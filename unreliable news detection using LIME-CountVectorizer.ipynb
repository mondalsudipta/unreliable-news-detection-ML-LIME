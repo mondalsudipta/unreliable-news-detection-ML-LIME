{
 "cells": [
  {
   "cell_type": "markdown",
   "id": "1fce0db1",
   "metadata": {},
   "source": [
    "### Optimizing Rumor Detection: A Dual Feature Extraction Approach with LIME-Based Model Explanation"
   ]
  },
  {
   "cell_type": "code",
   "execution_count": 1,
   "id": "9e1eb7d9",
   "metadata": {},
   "outputs": [],
   "source": [
    "import numpy as np\n",
    "import pandas as pd\n",
    "import seaborn as sns\n",
    "import matplotlib.pyplot as plt\n",
    "%matplotlib inline\n",
    "import string\n",
    "import re\n",
    "import random\n",
    "from collections import Counter\n",
    "\n",
    "import warnings\n",
    "warnings.filterwarnings(\"ignore\")\n",
    "\n",
    "\n",
    "from sklearn.feature_extraction.text import TfidfVectorizer, CountVectorizer\n",
    "from gensim.models import Word2Vec\n",
    "\n",
    "import nltk\n",
    "from nltk.corpus import stopwords, wordnet\n",
    "# from nltk.stem import PorterStemmer\n",
    "from nltk import WordNetLemmatizer\n",
    "from nltk.tokenize import word_tokenize\n",
    "from nltk.stem import WordNetLemmatizer\n",
    "\n",
    "from sklearn.feature_extraction.text import TfidfVectorizer, CountVectorizer\n",
    "\n",
    "\n",
    "from sklearn.model_selection import train_test_split\n",
    "from sklearn.model_selection import StratifiedKFold\n",
    "\n",
    "\n",
    "from sklearn.ensemble import RandomForestClassifier, GradientBoostingClassifier\n",
    "from sklearn.linear_model import LogisticRegression, SGDClassifier\n",
    "from sklearn.naive_bayes import MultinomialNB\n",
    "from sklearn.neighbors import KNeighborsClassifier\n",
    "from sklearn.tree import DecisionTreeClassifier\n",
    "from sklearn.ensemble import RandomForestClassifier\n",
    "from sklearn.svm import SVC\n",
    "\n",
    "\n",
    "from sklearn.metrics import accuracy_score, precision_score, recall_score, f1_score, classification_report, confusion_matrix\n",
    "\n",
    "import joblib"
   ]
  },
  {
   "cell_type": "code",
   "execution_count": 2,
   "id": "f3455551",
   "metadata": {},
   "outputs": [],
   "source": [
    "# dataset link = https://www.kaggle.com/c/fake-news/data"
   ]
  },
  {
   "cell_type": "code",
   "execution_count": 3,
   "id": "bdcc0d0e",
   "metadata": {},
   "outputs": [],
   "source": [
    "df = pd.read_csv(\"train.csv\")"
   ]
  },
  {
   "cell_type": "code",
   "execution_count": 4,
   "id": "d9198a3a",
   "metadata": {
    "scrolled": true
   },
   "outputs": [
    {
     "data": {
      "text/html": [
       "<div>\n",
       "<style scoped>\n",
       "    .dataframe tbody tr th:only-of-type {\n",
       "        vertical-align: middle;\n",
       "    }\n",
       "\n",
       "    .dataframe tbody tr th {\n",
       "        vertical-align: top;\n",
       "    }\n",
       "\n",
       "    .dataframe thead th {\n",
       "        text-align: right;\n",
       "    }\n",
       "</style>\n",
       "<table border=\"1\" class=\"dataframe\">\n",
       "  <thead>\n",
       "    <tr style=\"text-align: right;\">\n",
       "      <th></th>\n",
       "      <th>id</th>\n",
       "      <th>title</th>\n",
       "      <th>author</th>\n",
       "      <th>text</th>\n",
       "      <th>label</th>\n",
       "    </tr>\n",
       "  </thead>\n",
       "  <tbody>\n",
       "    <tr>\n",
       "      <th>0</th>\n",
       "      <td>0</td>\n",
       "      <td>House Dem Aide: We Didn’t Even See Comey’s Let...</td>\n",
       "      <td>Darrell Lucus</td>\n",
       "      <td>House Dem Aide: We Didn’t Even See Comey’s Let...</td>\n",
       "      <td>1</td>\n",
       "    </tr>\n",
       "    <tr>\n",
       "      <th>1</th>\n",
       "      <td>1</td>\n",
       "      <td>FLYNN: Hillary Clinton, Big Woman on Campus - ...</td>\n",
       "      <td>Daniel J. Flynn</td>\n",
       "      <td>Ever get the feeling your life circles the rou...</td>\n",
       "      <td>0</td>\n",
       "    </tr>\n",
       "    <tr>\n",
       "      <th>2</th>\n",
       "      <td>2</td>\n",
       "      <td>Why the Truth Might Get You Fired</td>\n",
       "      <td>Consortiumnews.com</td>\n",
       "      <td>Why the Truth Might Get You Fired October 29, ...</td>\n",
       "      <td>1</td>\n",
       "    </tr>\n",
       "    <tr>\n",
       "      <th>3</th>\n",
       "      <td>3</td>\n",
       "      <td>15 Civilians Killed In Single US Airstrike Hav...</td>\n",
       "      <td>Jessica Purkiss</td>\n",
       "      <td>Videos 15 Civilians Killed In Single US Airstr...</td>\n",
       "      <td>1</td>\n",
       "    </tr>\n",
       "    <tr>\n",
       "      <th>4</th>\n",
       "      <td>4</td>\n",
       "      <td>Iranian woman jailed for fictional unpublished...</td>\n",
       "      <td>Howard Portnoy</td>\n",
       "      <td>Print \\nAn Iranian woman has been sentenced to...</td>\n",
       "      <td>1</td>\n",
       "    </tr>\n",
       "  </tbody>\n",
       "</table>\n",
       "</div>"
      ],
      "text/plain": [
       "   id                                              title              author  \\\n",
       "0   0  House Dem Aide: We Didn’t Even See Comey’s Let...       Darrell Lucus   \n",
       "1   1  FLYNN: Hillary Clinton, Big Woman on Campus - ...     Daniel J. Flynn   \n",
       "2   2                  Why the Truth Might Get You Fired  Consortiumnews.com   \n",
       "3   3  15 Civilians Killed In Single US Airstrike Hav...     Jessica Purkiss   \n",
       "4   4  Iranian woman jailed for fictional unpublished...      Howard Portnoy   \n",
       "\n",
       "                                                text  label  \n",
       "0  House Dem Aide: We Didn’t Even See Comey’s Let...      1  \n",
       "1  Ever get the feeling your life circles the rou...      0  \n",
       "2  Why the Truth Might Get You Fired October 29, ...      1  \n",
       "3  Videos 15 Civilians Killed In Single US Airstr...      1  \n",
       "4  Print \\nAn Iranian woman has been sentenced to...      1  "
      ]
     },
     "execution_count": 4,
     "metadata": {},
     "output_type": "execute_result"
    }
   ],
   "source": [
    "df.head()"
   ]
  },
  {
   "cell_type": "code",
   "execution_count": 5,
   "id": "3f0c69d5",
   "metadata": {},
   "outputs": [
    {
     "data": {
      "text/plain": [
       "(20800, 5)"
      ]
     },
     "execution_count": 5,
     "metadata": {},
     "output_type": "execute_result"
    }
   ],
   "source": [
    "df.shape"
   ]
  },
  {
   "cell_type": "code",
   "execution_count": 6,
   "id": "cbce925c",
   "metadata": {},
   "outputs": [
    {
     "data": {
      "text/plain": [
       "1    10413\n",
       "0    10387\n",
       "Name: label, dtype: int64"
      ]
     },
     "execution_count": 6,
     "metadata": {},
     "output_type": "execute_result"
    }
   ],
   "source": [
    "df.label.value_counts()"
   ]
  },
  {
   "cell_type": "markdown",
   "id": "627542b5",
   "metadata": {},
   "source": [
    "1 ==> unreliable / rumor / fake\n",
    "\n",
    "0 ==> reliable / non-rumor / real"
   ]
  },
  {
   "cell_type": "markdown",
   "id": "a274160a",
   "metadata": {},
   "source": [
    "Balanced Class Labels"
   ]
  },
  {
   "cell_type": "code",
   "execution_count": 7,
   "id": "68e6fa6a",
   "metadata": {},
   "outputs": [
    {
     "data": {
      "text/html": [
       "<div>\n",
       "<style scoped>\n",
       "    .dataframe tbody tr th:only-of-type {\n",
       "        vertical-align: middle;\n",
       "    }\n",
       "\n",
       "    .dataframe tbody tr th {\n",
       "        vertical-align: top;\n",
       "    }\n",
       "\n",
       "    .dataframe thead th {\n",
       "        text-align: right;\n",
       "    }\n",
       "</style>\n",
       "<table border=\"1\" class=\"dataframe\">\n",
       "  <thead>\n",
       "    <tr style=\"text-align: right;\">\n",
       "      <th></th>\n",
       "      <th>text</th>\n",
       "      <th>label</th>\n",
       "    </tr>\n",
       "  </thead>\n",
       "  <tbody>\n",
       "    <tr>\n",
       "      <th>0</th>\n",
       "      <td>House Dem Aide: We Didn’t Even See Comey’s Let...</td>\n",
       "      <td>1</td>\n",
       "    </tr>\n",
       "    <tr>\n",
       "      <th>1</th>\n",
       "      <td>Ever get the feeling your life circles the rou...</td>\n",
       "      <td>0</td>\n",
       "    </tr>\n",
       "    <tr>\n",
       "      <th>2</th>\n",
       "      <td>Why the Truth Might Get You Fired October 29, ...</td>\n",
       "      <td>1</td>\n",
       "    </tr>\n",
       "    <tr>\n",
       "      <th>3</th>\n",
       "      <td>Videos 15 Civilians Killed In Single US Airstr...</td>\n",
       "      <td>1</td>\n",
       "    </tr>\n",
       "    <tr>\n",
       "      <th>4</th>\n",
       "      <td>Print \\nAn Iranian woman has been sentenced to...</td>\n",
       "      <td>1</td>\n",
       "    </tr>\n",
       "  </tbody>\n",
       "</table>\n",
       "</div>"
      ],
      "text/plain": [
       "                                                text  label\n",
       "0  House Dem Aide: We Didn’t Even See Comey’s Let...      1\n",
       "1  Ever get the feeling your life circles the rou...      0\n",
       "2  Why the Truth Might Get You Fired October 29, ...      1\n",
       "3  Videos 15 Civilians Killed In Single US Airstr...      1\n",
       "4  Print \\nAn Iranian woman has been sentenced to...      1"
      ]
     },
     "execution_count": 7,
     "metadata": {},
     "output_type": "execute_result"
    }
   ],
   "source": [
    "df = df.drop(['id', 'author', 'title'], axis = 1)\n",
    "df.head()"
   ]
  },
  {
   "cell_type": "code",
   "execution_count": 8,
   "id": "c79b88b9",
   "metadata": {},
   "outputs": [
    {
     "name": "stdout",
     "output_type": "stream",
     "text": [
      "<class 'pandas.core.frame.DataFrame'>\n",
      "RangeIndex: 20800 entries, 0 to 20799\n",
      "Data columns (total 2 columns):\n",
      " #   Column  Non-Null Count  Dtype \n",
      "---  ------  --------------  ----- \n",
      " 0   text    20761 non-null  object\n",
      " 1   label   20800 non-null  int64 \n",
      "dtypes: int64(1), object(1)\n",
      "memory usage: 325.1+ KB\n"
     ]
    }
   ],
   "source": [
    "df.info()"
   ]
  },
  {
   "cell_type": "markdown",
   "id": "fadca767",
   "metadata": {},
   "source": [
    "### Null value"
   ]
  },
  {
   "cell_type": "code",
   "execution_count": 9,
   "id": "fd7be089",
   "metadata": {},
   "outputs": [
    {
     "data": {
      "text/plain": [
       "text     39\n",
       "label     0\n",
       "dtype: int64"
      ]
     },
     "execution_count": 9,
     "metadata": {},
     "output_type": "execute_result"
    }
   ],
   "source": [
    "df.isnull().sum()"
   ]
  },
  {
   "cell_type": "code",
   "execution_count": 10,
   "id": "6cf34a79",
   "metadata": {},
   "outputs": [],
   "source": [
    "# The forwardfill() method is used to fill in missing values \n",
    "# in a DataFrame or Series with the previous valid observation\n",
    "\n",
    "df['text'].fillna(method='ffill', inplace=True)"
   ]
  },
  {
   "cell_type": "code",
   "execution_count": 11,
   "id": "a4546f9c",
   "metadata": {},
   "outputs": [
    {
     "data": {
      "text/plain": [
       "text     0\n",
       "label    0\n",
       "dtype: int64"
      ]
     },
     "execution_count": 11,
     "metadata": {},
     "output_type": "execute_result"
    }
   ],
   "source": [
    "df.isnull().sum()"
   ]
  },
  {
   "cell_type": "markdown",
   "id": "08be98a9",
   "metadata": {},
   "source": [
    "### Duplicate value"
   ]
  },
  {
   "cell_type": "code",
   "execution_count": 12,
   "id": "486d3ddf",
   "metadata": {},
   "outputs": [
    {
     "data": {
      "text/plain": [
       "False    20409\n",
       "True       391\n",
       "dtype: int64"
      ]
     },
     "execution_count": 12,
     "metadata": {},
     "output_type": "execute_result"
    }
   ],
   "source": [
    "df.duplicated().value_counts()"
   ]
  },
  {
   "cell_type": "code",
   "execution_count": 13,
   "id": "0c65aa10",
   "metadata": {},
   "outputs": [],
   "source": [
    "# dropping Duplicates\n",
    "\n",
    "df = df.drop_duplicates(keep='first')"
   ]
  },
  {
   "cell_type": "code",
   "execution_count": 14,
   "id": "f7454b2e",
   "metadata": {},
   "outputs": [
    {
     "data": {
      "text/plain": [
       "False    20409\n",
       "dtype: int64"
      ]
     },
     "execution_count": 14,
     "metadata": {},
     "output_type": "execute_result"
    }
   ],
   "source": [
    "df.duplicated().value_counts()"
   ]
  },
  {
   "cell_type": "code",
   "execution_count": 15,
   "id": "d65f0fde",
   "metadata": {},
   "outputs": [
    {
     "data": {
      "text/plain": [
       "(20409, 2)"
      ]
     },
     "execution_count": 15,
     "metadata": {},
     "output_type": "execute_result"
    }
   ],
   "source": [
    "df.shape"
   ]
  },
  {
   "cell_type": "markdown",
   "id": "c1884f8b",
   "metadata": {},
   "source": [
    "## Preprocessing"
   ]
  },
  {
   "cell_type": "markdown",
   "id": "7dbe100b",
   "metadata": {},
   "source": [
    "### Data Cleaning"
   ]
  },
  {
   "cell_type": "code",
   "execution_count": 16,
   "id": "ca741049",
   "metadata": {},
   "outputs": [
    {
     "data": {
      "text/plain": [
       "\"i, me, my, myself, we, our, ours, ourselves, you, you're, you've, you'll, you'd, your, yours, yourself, yourselves, he, him, his, himself, she, she's, her, hers, herself, it, it's, its, itself, they, them, their, theirs, themselves, what, which, who, whom, this, that, that'll, these, those, am, is, are, was, were, be, been, being, have, has, had, having, do, does, did, doing, a, an, the, and, but, if, or, because, as, until, while, of, at, by, for, with, about, against, between, into, through, during, before, after, above, below, to, from, up, down, in, out, on, off, over, under, again, further, then, once, here, there, when, where, why, how, all, any, both, each, few, more, most, other, some, such, no, nor, not, only, own, same, so, than, too, very, s, t, can, will, just, don, don't, should, should've, now, d, ll, m, o, re, ve, y, ain, aren, aren't, couldn, couldn't, didn, didn't, doesn, doesn't, hadn, hadn't, hasn, hasn't, haven, haven't, isn, isn't, ma, mightn, mightn't, mustn, mustn't, needn, needn't, shan, shan't, shouldn, shouldn't, wasn, wasn't, weren, weren't, won, won't, wouldn, wouldn't\""
      ]
     },
     "execution_count": 16,
     "metadata": {},
     "output_type": "execute_result"
    }
   ],
   "source": [
    "from nltk.corpus import stopwords\n",
    "\", \".join(stopwords.words('english'))"
   ]
  },
  {
   "cell_type": "code",
   "execution_count": 17,
   "id": "ee8f0481",
   "metadata": {},
   "outputs": [
    {
     "name": "stdout",
     "output_type": "stream",
     "text": [
      "<class 'nltk.corpus.reader.wordlist.WordListCorpusReader'>\n"
     ]
    }
   ],
   "source": [
    "print(type(stopwords))"
   ]
  },
  {
   "cell_type": "code",
   "execution_count": 18,
   "id": "0e3ec753",
   "metadata": {},
   "outputs": [],
   "source": [
    "# print(len(STOPWORDS))"
   ]
  },
  {
   "cell_type": "code",
   "execution_count": 19,
   "id": "5bb174d4",
   "metadata": {},
   "outputs": [
    {
     "name": "stderr",
     "output_type": "stream",
     "text": [
      "[nltk_data] Downloading package stopwords to\n",
      "[nltk_data]     C:\\Users\\User\\AppData\\Roaming\\nltk_data...\n",
      "[nltk_data]   Package stopwords is already up-to-date!\n",
      "[nltk_data] Downloading package wordnet to\n",
      "[nltk_data]     C:\\Users\\User\\AppData\\Roaming\\nltk_data...\n",
      "[nltk_data]   Package wordnet is already up-to-date!\n",
      "[nltk_data] Downloading package averaged_perceptron_tagger to\n",
      "[nltk_data]     C:\\Users\\User\\AppData\\Roaming\\nltk_data...\n",
      "[nltk_data]   Package averaged_perceptron_tagger is already up-to-\n",
      "[nltk_data]       date!\n"
     ]
    }
   ],
   "source": [
    "# Ensure you have the necessary NLTK resources\n",
    "nltk.download('stopwords')\n",
    "nltk.download('wordnet')\n",
    "nltk.download('averaged_perceptron_tagger')\n",
    "\n",
    "# Constants for cleaning\n",
    "PUNCT_TO_REMOVE = string.punctuation + '“”'\n",
    "STOPWORDS = set(stopwords.words('english'))\n",
    "lemmatizer = WordNetLemmatizer()\n",
    "wordnet_map = {\"N\": wordnet.NOUN, \"V\": wordnet.VERB, \"J\": wordnet.ADJ, \"R\": wordnet.ADV}"
   ]
  },
  {
   "cell_type": "code",
   "execution_count": 20,
   "id": "64552d74",
   "metadata": {},
   "outputs": [],
   "source": [
    "# Combine all cleaning functions\n",
    "def clean_text(text, FREQWORDS=None, RAREWORDS=None):\n",
    "    if isinstance(text, str):\n",
    "        # 1. Convert to lowercase\n",
    "        text = text.lower()\n",
    "        \n",
    "        # 2. Remove punctuation\n",
    "        text = text.translate(str.maketrans('', '', PUNCT_TO_REMOVE))\n",
    "        \n",
    "        # 3. Remove hyperlinks, markup, numbers, and special symbols\n",
    "        text = re.sub(\"<[a][^>]*>(.+?)</[a]>\", 'Link.', text)\n",
    "        text = re.sub('&gt;', \"\", text)  # Greater than sign\n",
    "        text = re.sub('&#x27;', \"'\", text)  # Apostrophe\n",
    "        text = re.sub('&quot;', '\"', text)\n",
    "        text = re.sub('&#x2F;', ' ', text)\n",
    "        text = re.sub('<p>', ' ', text)  # Paragraph tag\n",
    "        text = re.sub('<i>', ' ', text)  # Italics tag\n",
    "        text = re.sub('</i>', '', text)\n",
    "        text = re.sub('&#62;', '', text)\n",
    "        text = re.sub(\"\\n\", '', text)  # Newline\n",
    "        text = re.sub(r'\\d+', '', text)  # Remove numbers\n",
    "        text = re.sub(r\"[’']\", \"\", text)  # Remove special apostrophes\n",
    "\n",
    "        # 4. Remove stopwords\n",
    "        text = \" \".join([word for word in text.split() if word not in STOPWORDS])\n",
    "        \n",
    "        # 5. Remove frequent words if provided\n",
    "        if FREQWORDS:\n",
    "            text = \" \".join([word for word in text.split() if word not in FREQWORDS])\n",
    "        \n",
    "        # 6. Remove rare words if provided\n",
    "        if RAREWORDS:\n",
    "            text = \" \".join([word for word in text.split() if word not in RAREWORDS])\n",
    "        \n",
    "        # 7. Lemmatization\n",
    "        pos_tagged_text = nltk.pos_tag(text.split())\n",
    "        text = \" \".join([lemmatizer.lemmatize(word, wordnet_map.get(pos[0], wordnet.NOUN)) for word, pos in pos_tagged_text])\n",
    "        \n",
    "        # 8. Remove URLs\n",
    "        url_pattern = re.compile(r'https?://\\S+|www\\.\\S+')\n",
    "        text = url_pattern.sub(r'', text)\n",
    "        \n",
    "    return text"
   ]
  },
  {
   "cell_type": "code",
   "execution_count": 21,
   "id": "8b1fe5b4",
   "metadata": {},
   "outputs": [],
   "source": [
    "# Apply the cleaning function on the dataset\n",
    "def preprocess_df(df):\n",
    "    # Remove URLs, Punctuation, Lowercase, etc. in one go\n",
    "    df[\"text\"] = df[\"text\"].apply(lambda text: clean_text(text))\n",
    "\n",
    "    # Get frequent words and remove them\n",
    "    cnt = Counter()\n",
    "    for text in df[\"text\"].values:\n",
    "        for word in text.split():\n",
    "            cnt[word] += 1\n",
    "    FREQWORDS = set([w for (w, wc) in cnt.most_common(10)])\n",
    "    \n",
    "    # Get rare words and remove them\n",
    "    rare_word_count = pd.Series(' '.join(df['text']).split()).value_counts()[-2:]\n",
    "    RAREWORDS = list(rare_word_count.index)\n",
    "    \n",
    "    # Apply removal of frequent and rare words\n",
    "    df[\"text\"] = df[\"text\"].apply(lambda text: clean_text(text, FREQWORDS=FREQWORDS, RAREWORDS=RAREWORDS))\n",
    "\n",
    "    return df"
   ]
  },
  {
   "cell_type": "code",
   "execution_count": 22,
   "id": "fd1cdc2d",
   "metadata": {},
   "outputs": [
    {
     "data": {
      "text/html": [
       "<div>\n",
       "<style scoped>\n",
       "    .dataframe tbody tr th:only-of-type {\n",
       "        vertical-align: middle;\n",
       "    }\n",
       "\n",
       "    .dataframe tbody tr th {\n",
       "        vertical-align: top;\n",
       "    }\n",
       "\n",
       "    .dataframe thead th {\n",
       "        text-align: right;\n",
       "    }\n",
       "</style>\n",
       "<table border=\"1\" class=\"dataframe\">\n",
       "  <thead>\n",
       "    <tr style=\"text-align: right;\">\n",
       "      <th></th>\n",
       "      <th>text</th>\n",
       "      <th>label</th>\n",
       "    </tr>\n",
       "  </thead>\n",
       "  <tbody>\n",
       "    <tr>\n",
       "      <th>0</th>\n",
       "      <td>house dem aide didnt even see comeys letter ja...</td>\n",
       "      <td>1</td>\n",
       "    </tr>\n",
       "    <tr>\n",
       "      <th>1</th>\n",
       "      <td>ever get feeling life circle roundabout rather...</td>\n",
       "      <td>0</td>\n",
       "    </tr>\n",
       "    <tr>\n",
       "      <th>2</th>\n",
       "      <td>truth might get fired october tension intellig...</td>\n",
       "      <td>1</td>\n",
       "    </tr>\n",
       "    <tr>\n",
       "      <th>3</th>\n",
       "      <td>video civilian kill single u airstrike identif...</td>\n",
       "      <td>1</td>\n",
       "    </tr>\n",
       "    <tr>\n",
       "      <th>4</th>\n",
       "      <td>print iranian woman sentence six prison iran r...</td>\n",
       "      <td>1</td>\n",
       "    </tr>\n",
       "  </tbody>\n",
       "</table>\n",
       "</div>"
      ],
      "text/plain": [
       "                                                text  label\n",
       "0  house dem aide didnt even see comeys letter ja...      1\n",
       "1  ever get feeling life circle roundabout rather...      0\n",
       "2  truth might get fired october tension intellig...      1\n",
       "3  video civilian kill single u airstrike identif...      1\n",
       "4  print iranian woman sentence six prison iran r...      1"
      ]
     },
     "execution_count": 22,
     "metadata": {},
     "output_type": "execute_result"
    }
   ],
   "source": [
    "# Use the function to clean and preprocess the dataframe\n",
    "df = preprocess_df(df)\n",
    "df.head()"
   ]
  },
  {
   "cell_type": "code",
   "execution_count": 23,
   "id": "76b54fac",
   "metadata": {},
   "outputs": [
    {
     "data": {
      "text/plain": [
       "(20409, 2)"
      ]
     },
     "execution_count": 23,
     "metadata": {},
     "output_type": "execute_result"
    }
   ],
   "source": [
    "df.shape"
   ]
  },
  {
   "cell_type": "code",
   "execution_count": null,
   "id": "ffe1af11",
   "metadata": {},
   "outputs": [],
   "source": []
  },
  {
   "cell_type": "markdown",
   "id": "2e054ecd",
   "metadata": {},
   "source": [
    "## Split Data"
   ]
  },
  {
   "cell_type": "code",
   "execution_count": 24,
   "id": "c921192b",
   "metadata": {},
   "outputs": [],
   "source": [
    "X = df['text']  # Features\n",
    "y = df['label'] # Target"
   ]
  },
  {
   "cell_type": "code",
   "execution_count": 25,
   "id": "e0566645",
   "metadata": {},
   "outputs": [
    {
     "name": "stdout",
     "output_type": "stream",
     "text": [
      "0    house dem aide didnt even see comeys letter ja...\n",
      "Name: text, dtype: object\n"
     ]
    }
   ],
   "source": [
    "print(X[:1])"
   ]
  },
  {
   "cell_type": "code",
   "execution_count": 26,
   "id": "55a830aa",
   "metadata": {},
   "outputs": [
    {
     "name": "stdout",
     "output_type": "stream",
     "text": [
      "0        1\n",
      "1        0\n",
      "2        1\n",
      "3        1\n",
      "4        1\n",
      "        ..\n",
      "20795    0\n",
      "20796    0\n",
      "20797    0\n",
      "20798    1\n",
      "20799    1\n",
      "Name: label, Length: 20409, dtype: int64\n"
     ]
    }
   ],
   "source": [
    "print(y)"
   ]
  },
  {
   "cell_type": "markdown",
   "id": "f534f37a",
   "metadata": {},
   "source": [
    "### Feature Extraction"
   ]
  },
  {
   "cell_type": "code",
   "execution_count": null,
   "id": "b46f5c7b",
   "metadata": {},
   "outputs": [],
   "source": []
  },
  {
   "cell_type": "code",
   "execution_count": 27,
   "id": "d65c1f16",
   "metadata": {},
   "outputs": [],
   "source": [
    "from sklearn.feature_extraction.text import CountVectorizer, TfidfVectorizer\n",
    "\n",
    "# Custom parameters for CountVectorizer\n",
    "count_vect = CountVectorizer(max_features=10000, ngram_range=(1, 2))\n",
    "\n",
    "# Custom parameters for TfidfVectorizer\n",
    "# tfidf_vect = TfidfVectorizer(max_features=10000, ngram_range=(1, 2))"
   ]
  },
  {
   "cell_type": "code",
   "execution_count": 28,
   "id": "f84cd4b2",
   "metadata": {},
   "outputs": [],
   "source": [
    "# Apply CountVectorizer\n",
    "X_count = count_vect.fit_transform(X)\n",
    "\n",
    "\n",
    "# Apply TfidfVectorizer\n",
    "# X_tfidf = tfidf_vect.fit_transform(X)"
   ]
  },
  {
   "cell_type": "code",
   "execution_count": 29,
   "id": "4f11aa50",
   "metadata": {},
   "outputs": [],
   "source": [
    "# Example of correct data splitting\n",
    "X_train_count, X_test_count, y_train, y_test = train_test_split(X_count, y, test_size=0.2, random_state=42)\n",
    "# X_train_tfidf, X_test_tfidf, y_train, y_test = train_test_split(X_tfidf, y, test_size=0.2, random_state=42)"
   ]
  },
  {
   "cell_type": "code",
   "execution_count": 30,
   "id": "636ad445",
   "metadata": {},
   "outputs": [
    {
     "name": "stdout",
     "output_type": "stream",
     "text": [
      "X_train_count shape: (16327, 10000)\n",
      "y_train shape: (16327,)\n",
      "X_test_count shape: (4082, 10000)\n",
      "y_test shape: (4082,)\n"
     ]
    }
   ],
   "source": [
    "print(f\"X_train_count shape: {X_train_count.shape}\")\n",
    "print(f\"y_train shape: {y_train.shape}\")\n",
    "print(f\"X_test_count shape: {X_test_count.shape}\")\n",
    "print(f\"y_test shape: {y_test.shape}\")\n",
    "\n",
    "# print(f\"X_train_tfidf shape: {X_train_tfidf.shape}\")\n",
    "# print(f\"y_train shape: {y_train.shape}\")\n",
    "# print(f\"X_test_tfidf shape: {X_test_tfidf.shape}\")\n",
    "# print(f\"y_train shape: {y_test.shape}\")"
   ]
  },
  {
   "cell_type": "markdown",
   "id": "a821477e",
   "metadata": {},
   "source": [
    "## Model Training - CountVectorizer"
   ]
  },
  {
   "cell_type": "markdown",
   "id": "3aab9436",
   "metadata": {},
   "source": [
    "### 1. Logistic Regression"
   ]
  },
  {
   "cell_type": "code",
   "execution_count": 31,
   "id": "08c3a941",
   "metadata": {},
   "outputs": [
    {
     "data": {
      "application/javascript": [
       "\n",
       "        if (window._pyforest_update_imports_cell) { window._pyforest_update_imports_cell('from sklearn.model_selection import cross_val_score'); }\n",
       "    "
      ],
      "text/plain": [
       "<IPython.core.display.Javascript object>"
      ]
     },
     "metadata": {},
     "output_type": "display_data"
    },
    {
     "name": "stdout",
     "output_type": "stream",
     "text": [
      "Cross-Validation Accuracy Scores: [0.93539498 0.9390692  0.93905054 0.93537519 0.93476263]\n",
      "Mean Cross-Validation Accuracy: 0.9367\n",
      "Logistic Regression with CountVectorizer:\n",
      "Accuracy: 0.9434\n",
      "Precision: 0.9291\n",
      "Recall: 0.9551\n",
      "F1 Score: 0.9419\n",
      "\n",
      "Classification Report:\n",
      "              precision    recall  f1-score   support\n",
      "\n",
      "           0       0.96      0.93      0.94      2120\n",
      "           1       0.93      0.96      0.94      1962\n",
      "\n",
      "    accuracy                           0.94      4082\n",
      "   macro avg       0.94      0.94      0.94      4082\n",
      "weighted avg       0.94      0.94      0.94      4082\n",
      "\n"
     ]
    },
    {
     "data": {
      "image/png": "[encoded data removed]",
      "text/plain": [
       "<Figure size 600x400 with 2 Axes>"
      ]
     },
     "metadata": {},
     "output_type": "display_data"
    }
   ],
   "source": [
    "# Initialize the Logistic Regression model\n",
    "log_reg_count = LogisticRegression(max_iter=1000, solver='lbfgs', C=1.0, penalty='l2')\n",
    "\n",
    "\n",
    "# Define the k-fold cross-validation\n",
    "cv = StratifiedKFold(n_splits=5, shuffle=True, random_state=42)\n",
    "\n",
    "# Perform k-fold cross-validation\n",
    "cv_scores = cross_val_score(log_reg_count, X_train_count, y_train, cv=cv, scoring='accuracy')\n",
    "print(f\"Cross-Validation Accuracy Scores: {cv_scores}\")\n",
    "print(f\"Mean Cross-Validation Accuracy: {np.mean(cv_scores):.4f}\")\n",
    "\n",
    "\n",
    "# Train the model on the CountVectorizer features\n",
    "log_reg_count.fit(X_train_count, y_train)\n",
    "\n",
    "# Predict on the test set\n",
    "y_pred_count = log_reg_count.predict(X_test_count)\n",
    "\n",
    "# Evaluation Metrics\n",
    "accuracy = accuracy_score(y_test, y_pred_count)\n",
    "precision = precision_score(y_test, y_pred_count)\n",
    "recall = recall_score(y_test, y_pred_count)\n",
    "f1 = f1_score(y_test, y_pred_count)\n",
    "\n",
    "# Print the evaluation results\n",
    "print(f\"Logistic Regression with CountVectorizer:\")\n",
    "print(f\"Accuracy: {accuracy:.4f}\")\n",
    "print(f\"Precision: {precision:.4f}\")\n",
    "print(f\"Recall: {recall:.4f}\")\n",
    "print(f\"F1 Score: {f1:.4f}\")\n",
    "\n",
    "# Print classification report\n",
    "print(\"\\nClassification Report:\")\n",
    "print(classification_report(y_test, y_pred_count))\n",
    "\n",
    "# Plot confusion matrix\n",
    "conf_matrix = confusion_matrix(y_test, y_pred_count)\n",
    "plt.figure(figsize=(6,4))\n",
    "sns.heatmap(conf_matrix, annot=True, fmt='d', cmap='Blues', xticklabels=['Non-Rumor', 'Rumor'], yticklabels=['Non-Rumor', 'Rumor'])\n",
    "plt.ylabel('Actual')\n",
    "plt.xlabel('Predicted')\n",
    "plt.title('Confusion Matrix - Logistic Regression with CountVectorizer')\n",
    "plt.show()"
   ]
  },
  {
   "cell_type": "code",
   "execution_count": 32,
   "id": "c04f534e",
   "metadata": {},
   "outputs": [
    {
     "data": {
      "text/plain": [
       "['logistic_regression_model_count0.pkl']"
      ]
     },
     "execution_count": 32,
     "metadata": {},
     "output_type": "execute_result"
    }
   ],
   "source": [
    "# Save the trained model to a file\n",
    "\n",
    "joblib.dump(log_reg_count, 'logistic_regression_model_count0.pkl')"
   ]
  },
  {
   "cell_type": "markdown",
   "id": "57f7d88b",
   "metadata": {},
   "source": [
    "### 2. Naive Bayes"
   ]
  },
  {
   "cell_type": "code",
   "execution_count": 33,
   "id": "62771b63",
   "metadata": {},
   "outputs": [
    {
     "data": {
      "application/javascript": [
       "\n",
       "        if (window._pyforest_update_imports_cell) { window._pyforest_update_imports_cell('from sklearn.model_selection import cross_val_score'); }\n",
       "    "
      ],
      "text/plain": [
       "<IPython.core.display.Javascript object>"
      ]
     },
     "metadata": {},
     "output_type": "display_data"
    },
    {
     "name": "stdout",
     "output_type": "stream",
     "text": [
      "Cross-Validation Accuracy Scores: [0.88885487 0.8759951  0.87687596 0.88116386 0.88728943]\n",
      "Mean Cross-Validation Accuracy: 0.8820\n",
      "Naive Bayes with CountVectorizer:\n",
      "Accuracy: 0.8782\n",
      "Precision: 0.9076\n",
      "Recall: 0.8313\n",
      "F1 Score: 0.8678\n",
      "\n",
      "Classification Report:\n",
      "              precision    recall  f1-score   support\n",
      "\n",
      "           0       0.86      0.92      0.89      2120\n",
      "           1       0.91      0.83      0.87      1962\n",
      "\n",
      "    accuracy                           0.88      4082\n",
      "   macro avg       0.88      0.88      0.88      4082\n",
      "weighted avg       0.88      0.88      0.88      4082\n",
      "\n"
     ]
    },
    {
     "data": {
      "image/png": "[encoded data removed]",
      "text/plain": [
       "<Figure size 600x400 with 2 Axes>"
      ]
     },
     "metadata": {},
     "output_type": "display_data"
    }
   ],
   "source": [
    "# Initialize the Naive Bayes model\n",
    "naive_bayes_count = MultinomialNB(alpha=1.0, fit_prior=True)\n",
    "\n",
    "# Define the k-fold cross-validation\n",
    "cv = StratifiedKFold(n_splits=5, shuffle=True, random_state=42)\n",
    "\n",
    "# Perform k-fold cross-validation\n",
    "cv_scores = cross_val_score(naive_bayes_count, X_train_count, y_train, cv=cv, scoring='accuracy')\n",
    "print(f\"Cross-Validation Accuracy Scores: {cv_scores}\")\n",
    "print(f\"Mean Cross-Validation Accuracy: {np.mean(cv_scores):.4f}\")\n",
    "\n",
    "# Train the model on the CountVectorizer features\n",
    "naive_bayes_count.fit(X_train_count, y_train)\n",
    "\n",
    "# Predict on the test set\n",
    "y_pred_count_nb = naive_bayes_count.predict(X_test_count)\n",
    "\n",
    "# Evaluation Metrics\n",
    "accuracy_nb = accuracy_score(y_test, y_pred_count_nb)\n",
    "precision_nb = precision_score(y_test, y_pred_count_nb)\n",
    "recall_nb = recall_score(y_test, y_pred_count_nb)\n",
    "f1_nb = f1_score(y_test, y_pred_count_nb)\n",
    "\n",
    "# Print the evaluation results\n",
    "print(f\"Naive Bayes with CountVectorizer:\")\n",
    "print(f\"Accuracy: {accuracy_nb:.4f}\")\n",
    "print(f\"Precision: {precision_nb:.4f}\")\n",
    "print(f\"Recall: {recall_nb:.4f}\")\n",
    "print(f\"F1 Score: {f1_nb:.4f}\")\n",
    "\n",
    "# Print classification report\n",
    "print(\"\\nClassification Report:\")\n",
    "print(classification_report(y_test, y_pred_count_nb))\n",
    "\n",
    "# Plot confusion matrix\n",
    "conf_matrix_nb = confusion_matrix(y_test, y_pred_count_nb)\n",
    "plt.figure(figsize=(6,4))\n",
    "sns.heatmap(conf_matrix_nb, annot=True, fmt='d', cmap='Blues', xticklabels=['Non-Rumor', 'Rumor'], yticklabels=['Non-Rumor', 'Rumor'])\n",
    "plt.ylabel('Actual')\n",
    "plt.xlabel('Predicted')\n",
    "plt.title('Confusion Matrix - Naive Bayes with CountVectorizer')\n",
    "plt.show()"
   ]
  },
  {
   "cell_type": "code",
   "execution_count": 34,
   "id": "8f20d012",
   "metadata": {},
   "outputs": [
    {
     "data": {
      "text/plain": [
       "['naive_bayes_model_count.pkl']"
      ]
     },
     "execution_count": 34,
     "metadata": {},
     "output_type": "execute_result"
    }
   ],
   "source": [
    "# Save the trained model to a file\n",
    "\n",
    "joblib.dump(naive_bayes_count, 'naive_bayes_model_count.pkl')"
   ]
  },
  {
   "cell_type": "markdown",
   "id": "5e45daf8",
   "metadata": {},
   "source": [
    "### 3. Stochastic Gradient Descent (SGD)"
   ]
  },
  {
   "cell_type": "code",
   "execution_count": 35,
   "id": "97e1b24c",
   "metadata": {},
   "outputs": [
    {
     "data": {
      "application/javascript": [
       "\n",
       "        if (window._pyforest_update_imports_cell) { window._pyforest_update_imports_cell('from sklearn.model_selection import cross_val_score'); }\n",
       "    "
      ],
      "text/plain": [
       "<IPython.core.display.Javascript object>"
      ]
     },
     "metadata": {},
     "output_type": "display_data"
    },
    {
     "name": "stdout",
     "output_type": "stream",
     "text": [
      "Cross-Validation Accuracy Scores: [0.93018983 0.93631353 0.93660031 0.92557427 0.93415008]\n",
      "Mean Cross-Validation Accuracy: 0.9326\n",
      "Stochastic Gradient Descent (SGD) with CountVectorizer:\n",
      "Accuracy: 0.9366\n",
      "Precision: 0.9247\n",
      "Recall: 0.9450\n",
      "F1 Score: 0.9347\n",
      "\n",
      "Classification Report:\n",
      "              precision    recall  f1-score   support\n",
      "\n",
      "           0       0.95      0.93      0.94      2120\n",
      "           1       0.92      0.94      0.93      1962\n",
      "\n",
      "    accuracy                           0.94      4082\n",
      "   macro avg       0.94      0.94      0.94      4082\n",
      "weighted avg       0.94      0.94      0.94      4082\n",
      "\n"
     ]
    },
    {
     "data": {
      "image/png": "[encoded data removed]",
      "text/plain": [
       "<Figure size 600x400 with 2 Axes>"
      ]
     },
     "metadata": {},
     "output_type": "display_data"
    }
   ],
   "source": [
    "# Initialize the SGD Classifier model\n",
    "sgd_count = SGDClassifier(loss='hinge', penalty='l2', max_iter=1000, tol=1e-3, random_state=42)\n",
    "\n",
    "# Define the k-fold cross-validation\n",
    "cv = StratifiedKFold(n_splits=5, shuffle=True, random_state=42)\n",
    "\n",
    "# Perform k-fold cross-validation\n",
    "cv_scores = cross_val_score(sgd_count, X_train_count, y_train, cv=cv, scoring='accuracy')\n",
    "print(f\"Cross-Validation Accuracy Scores: {cv_scores}\")\n",
    "print(f\"Mean Cross-Validation Accuracy: {np.mean(cv_scores):.4f}\")\n",
    "\n",
    "# Train the model on the CountVectorizer features\n",
    "sgd_count.fit(X_train_count, y_train)\n",
    "\n",
    "# Predict on the test set\n",
    "y_pred_count_sgd = sgd_count.predict(X_test_count)\n",
    "\n",
    "# Evaluation Metrics\n",
    "accuracy_sgd = accuracy_score(y_test, y_pred_count_sgd)\n",
    "precision_sgd = precision_score(y_test, y_pred_count_sgd)\n",
    "recall_sgd = recall_score(y_test, y_pred_count_sgd)\n",
    "f1_sgd = f1_score(y_test, y_pred_count_sgd)\n",
    "\n",
    "# Print the evaluation results\n",
    "print(f\"Stochastic Gradient Descent (SGD) with CountVectorizer:\")\n",
    "print(f\"Accuracy: {accuracy_sgd:.4f}\")\n",
    "print(f\"Precision: {precision_sgd:.4f}\")\n",
    "print(f\"Recall: {recall_sgd:.4f}\")\n",
    "print(f\"F1 Score: {f1_sgd:.4f}\")\n",
    "\n",
    "# Print classification report\n",
    "print(\"\\nClassification Report:\")\n",
    "print(classification_report(y_test, y_pred_count_sgd))\n",
    "\n",
    "# Plot confusion matrix\n",
    "conf_matrix_sgd = confusion_matrix(y_test, y_pred_count_sgd)\n",
    "plt.figure(figsize=(6,4))\n",
    "sns.heatmap(conf_matrix_sgd, annot=True, fmt='d', cmap='Blues', xticklabels=['Non-Rumor', 'Rumor'], yticklabels=['Non-Rumor', 'Rumor'])\n",
    "plt.ylabel('Actual')\n",
    "plt.xlabel('Predicted')\n",
    "plt.title('Confusion Matrix - SGD Classifier with CountVectorizer')\n",
    "plt.show()\n"
   ]
  },
  {
   "cell_type": "code",
   "execution_count": 36,
   "id": "dab3eff6",
   "metadata": {},
   "outputs": [
    {
     "data": {
      "text/plain": [
       "['stochastic_gradient_descent_model_count.pkl']"
      ]
     },
     "execution_count": 36,
     "metadata": {},
     "output_type": "execute_result"
    }
   ],
   "source": [
    "# Save the trained model to a file\n",
    "\n",
    "joblib.dump(sgd_count, 'stochastic_gradient_descent_model_count.pkl')"
   ]
  },
  {
   "cell_type": "markdown",
   "id": "d072db32",
   "metadata": {},
   "source": [
    "### 4. K-Nearest Neighbors (KNN)"
   ]
  },
  {
   "cell_type": "code",
   "execution_count": 37,
   "id": "a8a4c76c",
   "metadata": {},
   "outputs": [
    {
     "data": {
      "application/javascript": [
       "\n",
       "        if (window._pyforest_update_imports_cell) { window._pyforest_update_imports_cell('from sklearn.model_selection import cross_val_score'); }\n",
       "    "
      ],
      "text/plain": [
       "<IPython.core.display.Javascript object>"
      ]
     },
     "metadata": {},
     "output_type": "display_data"
    },
    {
     "name": "stdout",
     "output_type": "stream",
     "text": [
      "Cross-Validation Accuracy Scores: [0.69748928 0.68983466 0.68943338 0.67503828 0.69096478]\n",
      "Mean Cross-Validation Accuracy: 0.6886\n",
      "K-Nearest Neighbors (KNN) with CountVectorizer:\n",
      "Accuracy: 0.6901\n",
      "Precision: 0.6131\n",
      "Recall: 0.9628\n",
      "F1 Score: 0.7492\n",
      "\n",
      "Classification Report:\n",
      "              precision    recall  f1-score   support\n",
      "\n",
      "           0       0.93      0.44      0.59      2120\n",
      "           1       0.61      0.96      0.75      1962\n",
      "\n",
      "    accuracy                           0.69      4082\n",
      "   macro avg       0.77      0.70      0.67      4082\n",
      "weighted avg       0.78      0.69      0.67      4082\n",
      "\n"
     ]
    },
    {
     "data": {
      "image/png": "[encoded data removed]",
      "text/plain": [
       "<Figure size 600x400 with 2 Axes>"
      ]
     },
     "metadata": {},
     "output_type": "display_data"
    }
   ],
   "source": [
    "from sklearn.neighbors import KNeighborsClassifier\n",
    "\n",
    "# Initialize the KNN model\n",
    "knn_count = KNeighborsClassifier(n_neighbors=5, metric='minkowski', p=2)  # p=2 means Euclidean distance\n",
    "\n",
    "\n",
    "# Define the k-fold cross-validation\n",
    "cv = StratifiedKFold(n_splits=5, shuffle=True, random_state=42)\n",
    "\n",
    "# Perform k-fold cross-validation\n",
    "cv_scores = cross_val_score(knn_count, X_train_count, y_train, cv=cv, scoring='accuracy')\n",
    "print(f\"Cross-Validation Accuracy Scores: {cv_scores}\")\n",
    "print(f\"Mean Cross-Validation Accuracy: {np.mean(cv_scores):.4f}\")\n",
    "\n",
    "\n",
    "# Train the model on the CountVectorizer features\n",
    "knn_count.fit(X_train_count, y_train)\n",
    "\n",
    "# Predict on the test set\n",
    "y_pred_count_knn = knn_count.predict(X_test_count)\n",
    "\n",
    "# Evaluation Metrics\n",
    "accuracy_knn = accuracy_score(y_test, y_pred_count_knn)\n",
    "precision_knn = precision_score(y_test, y_pred_count_knn)\n",
    "recall_knn = recall_score(y_test, y_pred_count_knn)\n",
    "f1_knn = f1_score(y_test, y_pred_count_knn)\n",
    "\n",
    "# Print the evaluation results\n",
    "print(f\"K-Nearest Neighbors (KNN) with CountVectorizer:\")\n",
    "print(f\"Accuracy: {accuracy_knn:.4f}\")\n",
    "print(f\"Precision: {precision_knn:.4f}\")\n",
    "print(f\"Recall: {recall_knn:.4f}\")\n",
    "print(f\"F1 Score: {f1_knn:.4f}\")\n",
    "\n",
    "# Print classification report\n",
    "print(\"\\nClassification Report:\")\n",
    "print(classification_report(y_test, y_pred_count_knn))\n",
    "\n",
    "# Plot confusion matrix\n",
    "conf_matrix_knn = confusion_matrix(y_test, y_pred_count_knn)\n",
    "plt.figure(figsize=(6,4))\n",
    "sns.heatmap(conf_matrix_knn, annot=True, fmt='d', cmap='Blues', xticklabels=['Non-Rumor', 'Rumor'], yticklabels=['Non-Rumor', 'Rumor'])\n",
    "plt.ylabel('Actual')\n",
    "plt.xlabel('Predicted')\n",
    "plt.title('Confusion Matrix - KNN Classifier with CountVectorizer')\n",
    "plt.show()"
   ]
  },
  {
   "cell_type": "code",
   "execution_count": 38,
   "id": "b34883b9",
   "metadata": {},
   "outputs": [
    {
     "data": {
      "text/plain": [
       "['k-nearest_neighbors_model_count.pkl']"
      ]
     },
     "execution_count": 38,
     "metadata": {},
     "output_type": "execute_result"
    }
   ],
   "source": [
    "# Save the trained model to a file\n",
    "\n",
    "joblib.dump(knn_count, 'k-nearest_neighbors_model_count.pkl')"
   ]
  },
  {
   "cell_type": "markdown",
   "id": "9e4f448f",
   "metadata": {},
   "source": [
    "### 5. Decision Tree"
   ]
  },
  {
   "cell_type": "code",
   "execution_count": 39,
   "id": "f0d5df62",
   "metadata": {},
   "outputs": [
    {
     "data": {
      "application/javascript": [
       "\n",
       "        if (window._pyforest_update_imports_cell) { window._pyforest_update_imports_cell('from sklearn.model_selection import cross_val_score'); }\n",
       "    "
      ],
      "text/plain": [
       "<IPython.core.display.Javascript object>"
      ]
     },
     "metadata": {},
     "output_type": "display_data"
    },
    {
     "name": "stdout",
     "output_type": "stream",
     "text": [
      "Cross-Validation Accuracy Scores: [0.82792407 0.82700551 0.83277182 0.82695253 0.82909648]\n",
      "Mean Cross-Validation Accuracy: 0.8288\n",
      "Decision Tree with CountVectorizer:\n",
      "Accuracy: 0.8324\n",
      "Precision: 0.8185\n",
      "Recall: 0.8369\n",
      "F1 Score: 0.8276\n",
      "\n",
      "Classification Report:\n",
      "              precision    recall  f1-score   support\n",
      "\n",
      "           0       0.85      0.83      0.84      2120\n",
      "           1       0.82      0.84      0.83      1962\n",
      "\n",
      "    accuracy                           0.83      4082\n",
      "   macro avg       0.83      0.83      0.83      4082\n",
      "weighted avg       0.83      0.83      0.83      4082\n",
      "\n"
     ]
    },
    {
     "data": {
      "image/png": "[encoded data removed]",
      "text/plain": [
       "<Figure size 600x400 with 2 Axes>"
      ]
     },
     "metadata": {},
     "output_type": "display_data"
    }
   ],
   "source": [
    "from sklearn.tree import DecisionTreeClassifier\n",
    "\n",
    "# Initialize the Decision Tree model\n",
    "decision_tree_count = DecisionTreeClassifier(criterion='gini', splitter='best', max_depth=None, random_state=42)\n",
    "\n",
    "\n",
    "# Define the k-fold cross-validation\n",
    "cv = StratifiedKFold(n_splits=5, shuffle=True, random_state=42)\n",
    "\n",
    "# Perform k-fold cross-validation\n",
    "cv_scores = cross_val_score(decision_tree_count, X_train_count, y_train, cv=cv, scoring='accuracy')\n",
    "print(f\"Cross-Validation Accuracy Scores: {cv_scores}\")\n",
    "print(f\"Mean Cross-Validation Accuracy: {np.mean(cv_scores):.4f}\")\n",
    "\n",
    "\n",
    "# Train the model on the CountVectorizer features\n",
    "decision_tree_count.fit(X_train_count, y_train)\n",
    "\n",
    "# Predict on the test set\n",
    "y_pred_count_dt = decision_tree_count.predict(X_test_count)\n",
    "\n",
    "# Evaluation Metrics\n",
    "accuracy_dt = accuracy_score(y_test, y_pred_count_dt)\n",
    "precision_dt = precision_score(y_test, y_pred_count_dt)\n",
    "recall_dt = recall_score(y_test, y_pred_count_dt)\n",
    "f1_dt = f1_score(y_test, y_pred_count_dt)\n",
    "\n",
    "# Print the evaluation results\n",
    "print(f\"Decision Tree with CountVectorizer:\")\n",
    "print(f\"Accuracy: {accuracy_dt:.4f}\")\n",
    "print(f\"Precision: {precision_dt:.4f}\")\n",
    "print(f\"Recall: {recall_dt:.4f}\")\n",
    "print(f\"F1 Score: {f1_dt:.4f}\")\n",
    "\n",
    "# Print classification report\n",
    "print(\"\\nClassification Report:\")\n",
    "print(classification_report(y_test, y_pred_count_dt))\n",
    "\n",
    "# Plot confusion matrix\n",
    "conf_matrix_dt = confusion_matrix(y_test, y_pred_count_dt)\n",
    "plt.figure(figsize=(6,4))\n",
    "sns.heatmap(conf_matrix_dt, annot=True, fmt='d', cmap='Blues', xticklabels=['Non-Rumor', 'Rumor'], yticklabels=['Non-Rumor', 'Rumor'])\n",
    "plt.ylabel('Actual')\n",
    "plt.xlabel('Predicted')\n",
    "plt.title('Confusion Matrix - Decision Tree Classifier with CountVectorizer')\n",
    "plt.show()"
   ]
  },
  {
   "cell_type": "code",
   "execution_count": 40,
   "id": "4a212c2e",
   "metadata": {},
   "outputs": [
    {
     "data": {
      "text/plain": [
       "['decision_tree_model_count.pkl']"
      ]
     },
     "execution_count": 40,
     "metadata": {},
     "output_type": "execute_result"
    }
   ],
   "source": [
    "# Save the trained model to a file\n",
    "\n",
    "joblib.dump(decision_tree_count, 'decision_tree_model_count.pkl')"
   ]
  },
  {
   "cell_type": "markdown",
   "id": "2d6f940b",
   "metadata": {},
   "source": [
    "### 6. Random Forest"
   ]
  },
  {
   "cell_type": "code",
   "execution_count": 41,
   "id": "4e28515b",
   "metadata": {},
   "outputs": [
    {
     "data": {
      "application/javascript": [
       "\n",
       "        if (window._pyforest_update_imports_cell) { window._pyforest_update_imports_cell('from sklearn.model_selection import cross_val_score'); }\n",
       "    "
      ],
      "text/plain": [
       "<IPython.core.display.Javascript object>"
      ]
     },
     "metadata": {},
     "output_type": "display_data"
    },
    {
     "name": "stdout",
     "output_type": "stream",
     "text": [
      "Cross-Validation Accuracy Scores: [0.91733007 0.91610533 0.91822358 0.91546708 0.92036753]\n",
      "Mean Cross-Validation Accuracy: 0.9175\n",
      "Random Forest with CountVectorizer:\n",
      "Accuracy: 0.9223\n",
      "Precision: 0.9345\n",
      "Recall: 0.9016\n",
      "F1 Score: 0.9178\n",
      "\n",
      "Classification Report:\n",
      "              precision    recall  f1-score   support\n",
      "\n",
      "           0       0.91      0.94      0.93      2120\n",
      "           1       0.93      0.90      0.92      1962\n",
      "\n",
      "    accuracy                           0.92      4082\n",
      "   macro avg       0.92      0.92      0.92      4082\n",
      "weighted avg       0.92      0.92      0.92      4082\n",
      "\n"
     ]
    },
    {
     "data": {
      "image/png": "[encoded data removed]",
      "text/plain": [
       "<Figure size 600x400 with 2 Axes>"
      ]
     },
     "metadata": {},
     "output_type": "display_data"
    }
   ],
   "source": [
    "from sklearn.ensemble import RandomForestClassifier\n",
    "\n",
    "# Initialize the Random Forest model\n",
    "random_forest_count = RandomForestClassifier(n_estimators=100, criterion='gini', max_depth=None, random_state=42, n_jobs=-1)\n",
    "\n",
    "\n",
    "# Define the k-fold cross-validation\n",
    "cv = StratifiedKFold(n_splits=5, shuffle=True, random_state=42)\n",
    "\n",
    "# Perform k-fold cross-validation\n",
    "cv_scores = cross_val_score(random_forest_count, X_train_count, y_train, cv=cv, scoring='accuracy')\n",
    "print(f\"Cross-Validation Accuracy Scores: {cv_scores}\")\n",
    "print(f\"Mean Cross-Validation Accuracy: {np.mean(cv_scores):.4f}\")\n",
    "\n",
    "\n",
    "\n",
    "# Train the model on the CountVectorizer features\n",
    "random_forest_count.fit(X_train_count, y_train)\n",
    "\n",
    "# Predict on the test set\n",
    "y_pred_count_rf = random_forest_count.predict(X_test_count)\n",
    "\n",
    "# Evaluation Metrics\n",
    "accuracy_rf = accuracy_score(y_test, y_pred_count_rf)\n",
    "precision_rf = precision_score(y_test, y_pred_count_rf)\n",
    "recall_rf = recall_score(y_test, y_pred_count_rf)\n",
    "f1_rf = f1_score(y_test, y_pred_count_rf)\n",
    "\n",
    "# Print the evaluation results\n",
    "print(f\"Random Forest with CountVectorizer:\")\n",
    "print(f\"Accuracy: {accuracy_rf:.4f}\")\n",
    "print(f\"Precision: {precision_rf:.4f}\")\n",
    "print(f\"Recall: {recall_rf:.4f}\")\n",
    "print(f\"F1 Score: {f1_rf:.4f}\")\n",
    "\n",
    "# Print classification report\n",
    "print(\"\\nClassification Report:\")\n",
    "print(classification_report(y_test, y_pred_count_rf))\n",
    "\n",
    "# Plot confusion matrix\n",
    "conf_matrix_rf = confusion_matrix(y_test, y_pred_count_rf)\n",
    "plt.figure(figsize=(6,4))\n",
    "sns.heatmap(conf_matrix_rf, annot=True, fmt='d', cmap='Blues', xticklabels=['Non-Rumor', 'Rumor'], yticklabels=['Non-Rumor', 'Rumor'])\n",
    "plt.ylabel('Actual')\n",
    "plt.xlabel('Predicted')\n",
    "plt.title('Confusion Matrix - Random Forest Classifier with CountVectorizer')\n",
    "plt.show()"
   ]
  },
  {
   "cell_type": "code",
   "execution_count": 42,
   "id": "daf36978",
   "metadata": {},
   "outputs": [
    {
     "data": {
      "text/plain": [
       "['random_forest_model_count.pkl']"
      ]
     },
     "execution_count": 42,
     "metadata": {},
     "output_type": "execute_result"
    }
   ],
   "source": [
    "# Save the trained model to a file\n",
    "\n",
    "joblib.dump(random_forest_count, 'random_forest_model_count.pkl')"
   ]
  },
  {
   "cell_type": "markdown",
   "id": "194225c4",
   "metadata": {},
   "source": [
    "### 7. Support Vector Machine (SVM)"
   ]
  },
  {
   "cell_type": "code",
   "execution_count": 43,
   "id": "830f4cdf",
   "metadata": {},
   "outputs": [
    {
     "data": {
      "application/javascript": [
       "\n",
       "        if (window._pyforest_update_imports_cell) { window._pyforest_update_imports_cell('from sklearn.model_selection import cross_val_score'); }\n",
       "    "
      ],
      "text/plain": [
       "<IPython.core.display.Javascript object>"
      ]
     },
     "metadata": {},
     "output_type": "display_data"
    },
    {
     "name": "stdout",
     "output_type": "stream",
     "text": [
      "Cross-Validation Accuracy Scores: [0.91916718 0.92345377 0.92496172 0.92404288 0.92220521]\n",
      "Mean Cross-Validation Accuracy: 0.9228\n",
      "SVM with CountVectorizer:\n",
      "Accuracy: 0.9336\n",
      "Precision: 0.9221\n",
      "Recall: 0.9414\n",
      "F1 Score: 0.9317\n",
      "\n",
      "Classification Report:\n",
      "              precision    recall  f1-score   support\n",
      "\n",
      "           0       0.94      0.93      0.94      2120\n",
      "           1       0.92      0.94      0.93      1962\n",
      "\n",
      "    accuracy                           0.93      4082\n",
      "   macro avg       0.93      0.93      0.93      4082\n",
      "weighted avg       0.93      0.93      0.93      4082\n",
      "\n"
     ]
    },
    {
     "data": {
      "image/png": "[encoded data removed]",
      "text/plain": [
       "<Figure size 600x400 with 2 Axes>"
      ]
     },
     "metadata": {},
     "output_type": "display_data"
    }
   ],
   "source": [
    "from sklearn.svm import SVC\n",
    "\n",
    "# Initialize the Support Vector Machine model with a linear kernel\n",
    "svm_count = SVC(kernel='linear', C=1.0, random_state=42)\n",
    "\n",
    "\n",
    "# Define the k-fold cross-validation\n",
    "cv = StratifiedKFold(n_splits=5, shuffle=True, random_state=42)\n",
    "\n",
    "# Perform k-fold cross-validation\n",
    "cv_scores = cross_val_score(svm_count, X_train_count, y_train, cv=cv, scoring='accuracy')\n",
    "print(f\"Cross-Validation Accuracy Scores: {cv_scores}\")\n",
    "print(f\"Mean Cross-Validation Accuracy: {np.mean(cv_scores):.4f}\")\n",
    "\n",
    "\n",
    "# Train the model on the CountVectorizer features\n",
    "svm_count.fit(X_train_count, y_train)\n",
    "\n",
    "# Predict on the test set\n",
    "y_pred_count_svm = svm_count.predict(X_test_count)\n",
    "\n",
    "# Evaluation Metrics\n",
    "accuracy_svm = accuracy_score(y_test, y_pred_count_svm)\n",
    "precision_svm = precision_score(y_test, y_pred_count_svm)\n",
    "recall_svm = recall_score(y_test, y_pred_count_svm)\n",
    "f1_svm = f1_score(y_test, y_pred_count_svm)\n",
    "\n",
    "# Print the evaluation results\n",
    "print(f\"SVM with CountVectorizer:\")\n",
    "print(f\"Accuracy: {accuracy_svm:.4f}\")\n",
    "print(f\"Precision: {precision_svm:.4f}\")\n",
    "print(f\"Recall: {recall_svm:.4f}\")\n",
    "print(f\"F1 Score: {f1_svm:.4f}\")\n",
    "\n",
    "# Print classification report\n",
    "print(\"\\nClassification Report:\")\n",
    "print(classification_report(y_test, y_pred_count_svm))\n",
    "\n",
    "# Plot confusion matrix\n",
    "conf_matrix_svm = confusion_matrix(y_test, y_pred_count_svm)\n",
    "plt.figure(figsize=(6,4))\n",
    "sns.heatmap(conf_matrix_svm, annot=True, fmt='d', cmap='Blues', xticklabels=['Non-Rumor', 'Rumor'], yticklabels=['Non-Rumor', 'Rumor'])\n",
    "plt.ylabel('Actual')\n",
    "plt.xlabel('Predicted')\n",
    "plt.title('Confusion Matrix - SVM Classifier with CountVectorizer')\n",
    "plt.show()\n"
   ]
  },
  {
   "cell_type": "code",
   "execution_count": 44,
   "id": "eb8b4501",
   "metadata": {},
   "outputs": [
    {
     "data": {
      "text/plain": [
       "['svm_model_count.pkl']"
      ]
     },
     "execution_count": 44,
     "metadata": {},
     "output_type": "execute_result"
    }
   ],
   "source": [
    "# Save the trained model to a file\n",
    "\n",
    "joblib.dump(svm_count, 'svm_model_count.pkl')"
   ]
  },
  {
   "cell_type": "code",
   "execution_count": null,
   "id": "c834593d",
   "metadata": {},
   "outputs": [],
   "source": []
  }
 ],
 "metadata": {
  "kernelspec": {
   "display_name": "Python 3 (ipykernel)",
   "language": "python",
   "name": "python3"
  },
  "language_info": {
   "codemirror_mode": {
    "name": "ipython",
    "version": 3
   },
   "file_extension": ".py",
   "mimetype": "text/x-python",
   "name": "python",
   "nbconvert_exporter": "python",
   "pygments_lexer": "ipython3",
   "version": "3.9.13"
  }
 },
 "nbformat": 4,
 "nbformat_minor": 5
}
