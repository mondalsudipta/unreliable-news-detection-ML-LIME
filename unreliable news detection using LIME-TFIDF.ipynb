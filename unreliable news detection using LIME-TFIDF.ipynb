{
 "cells": [
  {
   "cell_type": "markdown",
   "id": "1eba7c71",
   "metadata": {},
   "source": [
    "### Optimizing Rumor Detection: A Dual Feature Extraction Approach with LIME-Based Model Explanation"
   ]
  },
  {
   "cell_type": "code",
   "execution_count": 1,
   "id": "9e1eb7d9",
   "metadata": {},
   "outputs": [],
   "source": [
    "import numpy as np\n",
    "import pandas as pd\n",
    "import seaborn as sns\n",
    "import matplotlib.pyplot as plt\n",
    "%matplotlib inline\n",
    "import string\n",
    "import re\n",
    "import random\n",
    "from collections import Counter\n",
    "\n",
    "import warnings\n",
    "warnings.filterwarnings(\"ignore\")\n",
    "\n",
    "\n",
    "from sklearn.feature_extraction.text import TfidfVectorizer, CountVectorizer\n",
    "from gensim.models import Word2Vec\n",
    "\n",
    "import nltk\n",
    "from nltk.corpus import stopwords, wordnet\n",
    "# from nltk.stem import PorterStemmer\n",
    "from nltk import WordNetLemmatizer\n",
    "from nltk.tokenize import word_tokenize\n",
    "from nltk.stem import WordNetLemmatizer\n",
    "\n",
    "from sklearn.feature_extraction.text import TfidfVectorizer, CountVectorizer\n",
    "\n",
    "\n",
    "from sklearn.model_selection import train_test_split\n",
    "from sklearn.model_selection import cross_val_score, StratifiedKFold\n",
    "\n",
    "\n",
    "\n",
    "from sklearn.linear_model import LogisticRegression, SGDClassifier\n",
    "from sklearn.naive_bayes import MultinomialNB\n",
    "from sklearn.neighbors import KNeighborsClassifier\n",
    "from sklearn.tree import DecisionTreeClassifier\n",
    "from sklearn.ensemble import RandomForestClassifier\n",
    "from sklearn.svm import SVC\n",
    "\n",
    "\n",
    "from sklearn.metrics import accuracy_score, precision_score, recall_score, f1_score, classification_report, confusion_matrix\n",
    "\n",
    "import joblib"
   ]
  },
  {
   "cell_type": "code",
   "execution_count": 2,
   "id": "f3455551",
   "metadata": {},
   "outputs": [],
   "source": [
    "# dataset link = https://www.kaggle.com/c/fake-news/data"
   ]
  },
  {
   "cell_type": "code",
   "execution_count": 3,
   "id": "bdcc0d0e",
   "metadata": {},
   "outputs": [],
   "source": [
    "df = pd.read_csv(\"train.csv\")"
   ]
  },
  {
   "cell_type": "code",
   "execution_count": 4,
   "id": "d9198a3a",
   "metadata": {
    "scrolled": true
   },
   "outputs": [
    {
     "data": {
      "text/html": [
       "<div>\n",
       "<style scoped>\n",
       "    .dataframe tbody tr th:only-of-type {\n",
       "        vertical-align: middle;\n",
       "    }\n",
       "\n",
       "    .dataframe tbody tr th {\n",
       "        vertical-align: top;\n",
       "    }\n",
       "\n",
       "    .dataframe thead th {\n",
       "        text-align: right;\n",
       "    }\n",
       "</style>\n",
       "<table border=\"1\" class=\"dataframe\">\n",
       "  <thead>\n",
       "    <tr style=\"text-align: right;\">\n",
       "      <th></th>\n",
       "      <th>id</th>\n",
       "      <th>title</th>\n",
       "      <th>author</th>\n",
       "      <th>text</th>\n",
       "      <th>label</th>\n",
       "    </tr>\n",
       "  </thead>\n",
       "  <tbody>\n",
       "    <tr>\n",
       "      <th>0</th>\n",
       "      <td>0</td>\n",
       "      <td>House Dem Aide: We Didn’t Even See Comey’s Let...</td>\n",
       "      <td>Darrell Lucus</td>\n",
       "      <td>House Dem Aide: We Didn’t Even See Comey’s Let...</td>\n",
       "      <td>1</td>\n",
       "    </tr>\n",
       "    <tr>\n",
       "      <th>1</th>\n",
       "      <td>1</td>\n",
       "      <td>FLYNN: Hillary Clinton, Big Woman on Campus - ...</td>\n",
       "      <td>Daniel J. Flynn</td>\n",
       "      <td>Ever get the feeling your life circles the rou...</td>\n",
       "      <td>0</td>\n",
       "    </tr>\n",
       "    <tr>\n",
       "      <th>2</th>\n",
       "      <td>2</td>\n",
       "      <td>Why the Truth Might Get You Fired</td>\n",
       "      <td>Consortiumnews.com</td>\n",
       "      <td>Why the Truth Might Get You Fired October 29, ...</td>\n",
       "      <td>1</td>\n",
       "    </tr>\n",
       "    <tr>\n",
       "      <th>3</th>\n",
       "      <td>3</td>\n",
       "      <td>15 Civilians Killed In Single US Airstrike Hav...</td>\n",
       "      <td>Jessica Purkiss</td>\n",
       "      <td>Videos 15 Civilians Killed In Single US Airstr...</td>\n",
       "      <td>1</td>\n",
       "    </tr>\n",
       "    <tr>\n",
       "      <th>4</th>\n",
       "      <td>4</td>\n",
       "      <td>Iranian woman jailed for fictional unpublished...</td>\n",
       "      <td>Howard Portnoy</td>\n",
       "      <td>Print \\nAn Iranian woman has been sentenced to...</td>\n",
       "      <td>1</td>\n",
       "    </tr>\n",
       "  </tbody>\n",
       "</table>\n",
       "</div>"
      ],
      "text/plain": [
       "   id                                              title              author  \\\n",
       "0   0  House Dem Aide: We Didn’t Even See Comey’s Let...       Darrell Lucus   \n",
       "1   1  FLYNN: Hillary Clinton, Big Woman on Campus - ...     Daniel J. Flynn   \n",
       "2   2                  Why the Truth Might Get You Fired  Consortiumnews.com   \n",
       "3   3  15 Civilians Killed In Single US Airstrike Hav...     Jessica Purkiss   \n",
       "4   4  Iranian woman jailed for fictional unpublished...      Howard Portnoy   \n",
       "\n",
       "                                                text  label  \n",
       "0  House Dem Aide: We Didn’t Even See Comey’s Let...      1  \n",
       "1  Ever get the feeling your life circles the rou...      0  \n",
       "2  Why the Truth Might Get You Fired October 29, ...      1  \n",
       "3  Videos 15 Civilians Killed In Single US Airstr...      1  \n",
       "4  Print \\nAn Iranian woman has been sentenced to...      1  "
      ]
     },
     "execution_count": 4,
     "metadata": {},
     "output_type": "execute_result"
    }
   ],
   "source": [
    "df.head()"
   ]
  },
  {
   "cell_type": "code",
   "execution_count": 5,
   "id": "3f0c69d5",
   "metadata": {},
   "outputs": [
    {
     "data": {
      "text/plain": [
       "(20800, 5)"
      ]
     },
     "execution_count": 5,
     "metadata": {},
     "output_type": "execute_result"
    }
   ],
   "source": [
    "df.shape"
   ]
  },
  {
   "cell_type": "code",
   "execution_count": 6,
   "id": "cbce925c",
   "metadata": {},
   "outputs": [
    {
     "data": {
      "text/plain": [
       "1    10413\n",
       "0    10387\n",
       "Name: label, dtype: int64"
      ]
     },
     "execution_count": 6,
     "metadata": {},
     "output_type": "execute_result"
    }
   ],
   "source": [
    "df.label.value_counts()"
   ]
  },
  {
   "cell_type": "markdown",
   "id": "627542b5",
   "metadata": {},
   "source": [
    "1 ==> unreliable / rumor\n",
    "\n",
    "0 ==> reliable / non-rumor"
   ]
  },
  {
   "cell_type": "markdown",
   "id": "a274160a",
   "metadata": {},
   "source": [
    "Balanced Class Labels"
   ]
  },
  {
   "cell_type": "code",
   "execution_count": 7,
   "id": "68e6fa6a",
   "metadata": {},
   "outputs": [
    {
     "data": {
      "text/html": [
       "<div>\n",
       "<style scoped>\n",
       "    .dataframe tbody tr th:only-of-type {\n",
       "        vertical-align: middle;\n",
       "    }\n",
       "\n",
       "    .dataframe tbody tr th {\n",
       "        vertical-align: top;\n",
       "    }\n",
       "\n",
       "    .dataframe thead th {\n",
       "        text-align: right;\n",
       "    }\n",
       "</style>\n",
       "<table border=\"1\" class=\"dataframe\">\n",
       "  <thead>\n",
       "    <tr style=\"text-align: right;\">\n",
       "      <th></th>\n",
       "      <th>text</th>\n",
       "      <th>label</th>\n",
       "    </tr>\n",
       "  </thead>\n",
       "  <tbody>\n",
       "    <tr>\n",
       "      <th>0</th>\n",
       "      <td>House Dem Aide: We Didn’t Even See Comey’s Let...</td>\n",
       "      <td>1</td>\n",
       "    </tr>\n",
       "    <tr>\n",
       "      <th>1</th>\n",
       "      <td>Ever get the feeling your life circles the rou...</td>\n",
       "      <td>0</td>\n",
       "    </tr>\n",
       "    <tr>\n",
       "      <th>2</th>\n",
       "      <td>Why the Truth Might Get You Fired October 29, ...</td>\n",
       "      <td>1</td>\n",
       "    </tr>\n",
       "    <tr>\n",
       "      <th>3</th>\n",
       "      <td>Videos 15 Civilians Killed In Single US Airstr...</td>\n",
       "      <td>1</td>\n",
       "    </tr>\n",
       "    <tr>\n",
       "      <th>4</th>\n",
       "      <td>Print \\nAn Iranian woman has been sentenced to...</td>\n",
       "      <td>1</td>\n",
       "    </tr>\n",
       "  </tbody>\n",
       "</table>\n",
       "</div>"
      ],
      "text/plain": [
       "                                                text  label\n",
       "0  House Dem Aide: We Didn’t Even See Comey’s Let...      1\n",
       "1  Ever get the feeling your life circles the rou...      0\n",
       "2  Why the Truth Might Get You Fired October 29, ...      1\n",
       "3  Videos 15 Civilians Killed In Single US Airstr...      1\n",
       "4  Print \\nAn Iranian woman has been sentenced to...      1"
      ]
     },
     "execution_count": 7,
     "metadata": {},
     "output_type": "execute_result"
    }
   ],
   "source": [
    "df = df.drop(['id', 'author', 'title'], axis = 1)\n",
    "df.head()"
   ]
  },
  {
   "cell_type": "code",
   "execution_count": 8,
   "id": "c79b88b9",
   "metadata": {},
   "outputs": [
    {
     "name": "stdout",
     "output_type": "stream",
     "text": [
      "<class 'pandas.core.frame.DataFrame'>\n",
      "RangeIndex: 20800 entries, 0 to 20799\n",
      "Data columns (total 2 columns):\n",
      " #   Column  Non-Null Count  Dtype \n",
      "---  ------  --------------  ----- \n",
      " 0   text    20761 non-null  object\n",
      " 1   label   20800 non-null  int64 \n",
      "dtypes: int64(1), object(1)\n",
      "memory usage: 325.1+ KB\n"
     ]
    }
   ],
   "source": [
    "df.info()"
   ]
  },
  {
   "cell_type": "markdown",
   "id": "fadca767",
   "metadata": {},
   "source": [
    "### Null value"
   ]
  },
  {
   "cell_type": "code",
   "execution_count": 9,
   "id": "fd7be089",
   "metadata": {},
   "outputs": [
    {
     "data": {
      "text/plain": [
       "text     39\n",
       "label     0\n",
       "dtype: int64"
      ]
     },
     "execution_count": 9,
     "metadata": {},
     "output_type": "execute_result"
    }
   ],
   "source": [
    "df.isnull().sum()"
   ]
  },
  {
   "cell_type": "code",
   "execution_count": 10,
   "id": "6cf34a79",
   "metadata": {},
   "outputs": [],
   "source": [
    "# The forwardfill() method is used to fill in missing values \n",
    "# in a DataFrame or Series with the previous valid observation\n",
    "\n",
    "df['text'].fillna(method='ffill', inplace=True)"
   ]
  },
  {
   "cell_type": "code",
   "execution_count": 11,
   "id": "a4546f9c",
   "metadata": {},
   "outputs": [
    {
     "data": {
      "text/plain": [
       "text     0\n",
       "label    0\n",
       "dtype: int64"
      ]
     },
     "execution_count": 11,
     "metadata": {},
     "output_type": "execute_result"
    }
   ],
   "source": [
    "df.isnull().sum()"
   ]
  },
  {
   "cell_type": "markdown",
   "id": "08be98a9",
   "metadata": {},
   "source": [
    "### Duplicate value"
   ]
  },
  {
   "cell_type": "code",
   "execution_count": 12,
   "id": "486d3ddf",
   "metadata": {},
   "outputs": [
    {
     "data": {
      "text/plain": [
       "False    20409\n",
       "True       391\n",
       "dtype: int64"
      ]
     },
     "execution_count": 12,
     "metadata": {},
     "output_type": "execute_result"
    }
   ],
   "source": [
    "df.duplicated().value_counts()"
   ]
  },
  {
   "cell_type": "code",
   "execution_count": 13,
   "id": "0c65aa10",
   "metadata": {},
   "outputs": [],
   "source": [
    "# dropping Duplicates\n",
    "\n",
    "df = df.drop_duplicates(keep='first')"
   ]
  },
  {
   "cell_type": "code",
   "execution_count": 14,
   "id": "f7454b2e",
   "metadata": {},
   "outputs": [
    {
     "data": {
      "text/plain": [
       "False    20409\n",
       "dtype: int64"
      ]
     },
     "execution_count": 14,
     "metadata": {},
     "output_type": "execute_result"
    }
   ],
   "source": [
    "df.duplicated().value_counts()"
   ]
  },
  {
   "cell_type": "code",
   "execution_count": 15,
   "id": "d65f0fde",
   "metadata": {},
   "outputs": [
    {
     "data": {
      "text/plain": [
       "(20409, 2)"
      ]
     },
     "execution_count": 15,
     "metadata": {},
     "output_type": "execute_result"
    }
   ],
   "source": [
    "df.shape"
   ]
  },
  {
   "cell_type": "markdown",
   "id": "c1884f8b",
   "metadata": {},
   "source": [
    "## Preprocessing"
   ]
  },
  {
   "cell_type": "markdown",
   "id": "7dbe100b",
   "metadata": {},
   "source": [
    "### Data Cleaning"
   ]
  },
  {
   "cell_type": "code",
   "execution_count": 16,
   "id": "1a0dc86c",
   "metadata": {},
   "outputs": [
    {
     "name": "stderr",
     "output_type": "stream",
     "text": [
      "[nltk_data] Downloading package stopwords to\n",
      "[nltk_data]     C:\\Users\\User\\AppData\\Roaming\\nltk_data...\n",
      "[nltk_data]   Package stopwords is already up-to-date!\n",
      "[nltk_data] Downloading package wordnet to\n",
      "[nltk_data]     C:\\Users\\User\\AppData\\Roaming\\nltk_data...\n",
      "[nltk_data]   Package wordnet is already up-to-date!\n",
      "[nltk_data] Downloading package averaged_perceptron_tagger to\n",
      "[nltk_data]     C:\\Users\\User\\AppData\\Roaming\\nltk_data...\n",
      "[nltk_data]   Package averaged_perceptron_tagger is already up-to-\n",
      "[nltk_data]       date!\n"
     ]
    }
   ],
   "source": [
    "# Ensure you have the necessary NLTK resources\n",
    "nltk.download('stopwords')\n",
    "nltk.download('wordnet')\n",
    "nltk.download('averaged_perceptron_tagger')\n",
    "\n",
    "# Constants for cleaning\n",
    "PUNCT_TO_REMOVE = string.punctuation + '“”'\n",
    "STOPWORDS = set(stopwords.words('english'))\n",
    "lemmatizer = WordNetLemmatizer()\n",
    "wordnet_map = {\"N\": wordnet.NOUN, \"V\": wordnet.VERB, \"J\": wordnet.ADJ, \"R\": wordnet.ADV}"
   ]
  },
  {
   "cell_type": "code",
   "execution_count": 17,
   "id": "1afb27dd",
   "metadata": {},
   "outputs": [],
   "source": [
    "# Combine all cleaning functions\n",
    "def clean_text(text, FREQWORDS=None, RAREWORDS=None):\n",
    "    if isinstance(text, str):\n",
    "        # 1. Convert to lowercase\n",
    "        text = text.lower()\n",
    "        \n",
    "        # 2. Remove punctuation\n",
    "        text = text.translate(str.maketrans('', '', PUNCT_TO_REMOVE))\n",
    "        \n",
    "        # 3. Remove hyperlinks, markup, numbers, and special symbols\n",
    "        text = re.sub(\"<[a][^>]*>(.+?)</[a]>\", 'Link.', text)\n",
    "        text = re.sub('&gt;', \"\", text)  # Greater than sign\n",
    "        text = re.sub('&#x27;', \"'\", text)  # Apostrophe\n",
    "        text = re.sub('&quot;', '\"', text)\n",
    "        text = re.sub('&#x2F;', ' ', text)\n",
    "        text = re.sub('<p>', ' ', text)  # Paragraph tag\n",
    "        text = re.sub('<i>', ' ', text)  # Italics tag\n",
    "        text = re.sub('</i>', '', text)\n",
    "        text = re.sub('&#62;', '', text)\n",
    "        text = re.sub(\"\\n\", '', text)  # Newline\n",
    "        text = re.sub(r'\\d+', '', text)  # Remove numbers\n",
    "        text = re.sub(r\"[’']\", \"\", text)  # Remove special apostrophes\n",
    "\n",
    "        # 4. Remove stopwords\n",
    "        text = \" \".join([word for word in text.split() if word not in STOPWORDS])\n",
    "        \n",
    "        # 5. Remove frequent words if provided\n",
    "        if FREQWORDS:\n",
    "            text = \" \".join([word for word in text.split() if word not in FREQWORDS])\n",
    "        \n",
    "        # 6. Remove rare words if provided\n",
    "        if RAREWORDS:\n",
    "            text = \" \".join([word for word in text.split() if word not in RAREWORDS])\n",
    "        \n",
    "        # 7. Lemmatization\n",
    "        pos_tagged_text = nltk.pos_tag(text.split())\n",
    "        text = \" \".join([lemmatizer.lemmatize(word, wordnet_map.get(pos[0], wordnet.NOUN)) for word, pos in pos_tagged_text])\n",
    "        \n",
    "        # 8. Remove URLs\n",
    "        url_pattern = re.compile(r'https?://\\S+|www\\.\\S+')\n",
    "        text = url_pattern.sub(r'', text)\n",
    "        \n",
    "    return text"
   ]
  },
  {
   "cell_type": "code",
   "execution_count": 18,
   "id": "224a7563",
   "metadata": {},
   "outputs": [],
   "source": [
    "# Apply the cleaning function on the dataset\n",
    "def preprocess_df(df):\n",
    "    # Remove URLs, Punctuation, Lowercase, etc. in one go\n",
    "    df[\"text\"] = df[\"text\"].apply(lambda text: clean_text(text))\n",
    "\n",
    "    # Get frequent words and remove them\n",
    "    cnt = Counter()\n",
    "    for text in df[\"text\"].values:\n",
    "        for word in text.split():\n",
    "            cnt[word] += 1\n",
    "    FREQWORDS = set([w for (w, wc) in cnt.most_common(10)])\n",
    "    \n",
    "    # Get rare words and remove them\n",
    "    rare_word_count = pd.Series(' '.join(df['text']).split()).value_counts()[-2:]\n",
    "    RAREWORDS = list(rare_word_count.index)\n",
    "    \n",
    "    # Apply removal of frequent and rare words\n",
    "    df[\"text\"] = df[\"text\"].apply(lambda text: clean_text(text, FREQWORDS=FREQWORDS, RAREWORDS=RAREWORDS))\n",
    "\n",
    "    return df"
   ]
  },
  {
   "cell_type": "code",
   "execution_count": 19,
   "id": "d3c8d7a6",
   "metadata": {},
   "outputs": [
    {
     "data": {
      "text/html": [
       "<div>\n",
       "<style scoped>\n",
       "    .dataframe tbody tr th:only-of-type {\n",
       "        vertical-align: middle;\n",
       "    }\n",
       "\n",
       "    .dataframe tbody tr th {\n",
       "        vertical-align: top;\n",
       "    }\n",
       "\n",
       "    .dataframe thead th {\n",
       "        text-align: right;\n",
       "    }\n",
       "</style>\n",
       "<table border=\"1\" class=\"dataframe\">\n",
       "  <thead>\n",
       "    <tr style=\"text-align: right;\">\n",
       "      <th></th>\n",
       "      <th>text</th>\n",
       "      <th>label</th>\n",
       "    </tr>\n",
       "  </thead>\n",
       "  <tbody>\n",
       "    <tr>\n",
       "      <th>0</th>\n",
       "      <td>house dem aide didnt even see comeys letter ja...</td>\n",
       "      <td>1</td>\n",
       "    </tr>\n",
       "    <tr>\n",
       "      <th>1</th>\n",
       "      <td>ever get feeling life circle roundabout rather...</td>\n",
       "      <td>0</td>\n",
       "    </tr>\n",
       "    <tr>\n",
       "      <th>2</th>\n",
       "      <td>truth might get fired october tension intellig...</td>\n",
       "      <td>1</td>\n",
       "    </tr>\n",
       "    <tr>\n",
       "      <th>3</th>\n",
       "      <td>video civilian kill single u airstrike identif...</td>\n",
       "      <td>1</td>\n",
       "    </tr>\n",
       "    <tr>\n",
       "      <th>4</th>\n",
       "      <td>print iranian woman sentence six prison iran r...</td>\n",
       "      <td>1</td>\n",
       "    </tr>\n",
       "  </tbody>\n",
       "</table>\n",
       "</div>"
      ],
      "text/plain": [
       "                                                text  label\n",
       "0  house dem aide didnt even see comeys letter ja...      1\n",
       "1  ever get feeling life circle roundabout rather...      0\n",
       "2  truth might get fired october tension intellig...      1\n",
       "3  video civilian kill single u airstrike identif...      1\n",
       "4  print iranian woman sentence six prison iran r...      1"
      ]
     },
     "execution_count": 19,
     "metadata": {},
     "output_type": "execute_result"
    }
   ],
   "source": [
    "# Use the function to clean and preprocess the dataframe\n",
    "df = preprocess_df(df)\n",
    "df.head()"
   ]
  },
  {
   "cell_type": "code",
   "execution_count": null,
   "id": "05ba5165",
   "metadata": {},
   "outputs": [],
   "source": []
  },
  {
   "cell_type": "markdown",
   "id": "2e054ecd",
   "metadata": {},
   "source": [
    "## Split Data"
   ]
  },
  {
   "cell_type": "code",
   "execution_count": 20,
   "id": "c921192b",
   "metadata": {},
   "outputs": [],
   "source": [
    "X = df['text']  # Features\n",
    "y = df['label'] # Target"
   ]
  },
  {
   "cell_type": "code",
   "execution_count": 21,
   "id": "e0566645",
   "metadata": {},
   "outputs": [
    {
     "name": "stdout",
     "output_type": "stream",
     "text": [
      "0    house dem aide didnt even see comeys letter ja...\n",
      "Name: text, dtype: object\n"
     ]
    }
   ],
   "source": [
    "print(X[:1])"
   ]
  },
  {
   "cell_type": "code",
   "execution_count": 22,
   "id": "55a830aa",
   "metadata": {},
   "outputs": [
    {
     "name": "stdout",
     "output_type": "stream",
     "text": [
      "0        1\n",
      "1        0\n",
      "2        1\n",
      "3        1\n",
      "4        1\n",
      "        ..\n",
      "20795    0\n",
      "20796    0\n",
      "20797    0\n",
      "20798    1\n",
      "20799    1\n",
      "Name: label, Length: 20409, dtype: int64\n"
     ]
    }
   ],
   "source": [
    "print(y)"
   ]
  },
  {
   "cell_type": "markdown",
   "id": "f534f37a",
   "metadata": {},
   "source": [
    "### Feature Extraction"
   ]
  },
  {
   "cell_type": "code",
   "execution_count": 23,
   "id": "d65c1f16",
   "metadata": {},
   "outputs": [],
   "source": [
    "from sklearn.feature_extraction.text import CountVectorizer, TfidfVectorizer\n",
    "\n",
    "# Custom parameters for CountVectorizer\n",
    "# count_vect = CountVectorizer(max_features=10000, ngram_range=(1, 2))\n",
    "\n",
    "# Custom parameters for TfidfVectorizer\n",
    "tfidf_vect = TfidfVectorizer(max_features=10000, ngram_range=(1, 2))"
   ]
  },
  {
   "cell_type": "code",
   "execution_count": 24,
   "id": "f84cd4b2",
   "metadata": {},
   "outputs": [],
   "source": [
    "# Apply CountVectorizer\n",
    "# X_count = count_vect.fit_transform(X)\n",
    "\n",
    "\n",
    "# Apply TfidfVectorizer\n",
    "X_tfidf = tfidf_vect.fit_transform(X)"
   ]
  },
  {
   "cell_type": "code",
   "execution_count": 25,
   "id": "4f11aa50",
   "metadata": {},
   "outputs": [],
   "source": [
    "# Example of correct data splitting\n",
    "# X_train_count, X_test_count, y_train, y_test = train_test_split(X_count, y, test_size=0.2, random_state=42)\n",
    "# X_train_tfidf, X_test_tfidf, y_train, y_test = train_test_split(X_tfidf, y, test_size=0.2, random_state=42)"
   ]
  },
  {
   "cell_type": "code",
   "execution_count": 26,
   "id": "636ad445",
   "metadata": {},
   "outputs": [],
   "source": [
    "# print(f\"X_train_count shape: {X_train_count.shape}\")\n",
    "# print(f\"y_train shape: {y_train.shape}\")\n",
    "# print(f\"X_test_count shape: {X_test_count.shape}\")\n",
    "# print(f\"y_test shape: {y_test.shape}\")\n",
    "\n",
    "# print(f\"X_train_tfidf shape: {X_train_tfidf.shape}\")\n",
    "# print(f\"y_train shape: {y_train.shape}\")\n",
    "# print(f\"X_test_tfidf shape: {X_test_tfidf.shape}\")\n",
    "# print(f\"y_train shape: {y_test.shape}\")"
   ]
  },
  {
   "cell_type": "markdown",
   "id": "a821477e",
   "metadata": {},
   "source": [
    "## Model Training - TFIDF"
   ]
  },
  {
   "cell_type": "markdown",
   "id": "5487f03c",
   "metadata": {},
   "source": [
    "### 1. Logistic Regression"
   ]
  },
  {
   "cell_type": "code",
   "execution_count": 27,
   "id": "9697fdfc",
   "metadata": {},
   "outputs": [
    {
     "name": "stdout",
     "output_type": "stream",
     "text": [
      "Fold 1\n",
      "Fold 2\n",
      "Fold 3\n",
      "Fold 4\n",
      "Fold 5\n",
      "\n",
      "=== Final Averaged Metrics Across All Folds ===\n",
      "Mean Accuracy: 0.9390\n",
      "Mean F1 Score: 0.9378\n",
      "Mean Precision: 0.9405\n",
      "Mean Recall: 0.9350\n",
      "\n",
      "=== Final Summed Confusion Matrix Across All Folds ===\n",
      "[[9794  593]\n",
      " [ 651 9371]]\n"
     ]
    }
   ],
   "source": [
    "# Initialize Logistic Regression model\n",
    "log_reg_tf = LogisticRegression(max_iter=1000, solver='lbfgs', C=1.0, penalty='l2')\n",
    "\n",
    "# Initialize k-fold cross-validation\n",
    "\n",
    "kf = StratifiedKFold(n_splits= 5, shuffle=True)\n",
    "\n",
    "# Initialize metrics to accumulate results\n",
    "conf_matrix_sum = np.zeros((2, 2))  # for binary classification (2x2 confusion matrix)\n",
    "\n",
    "# Lists to store metrics for each fold\n",
    "accuracy_scores = []\n",
    "f1_scores = []\n",
    "precision_scores = []\n",
    "recall_scores = []\n",
    "\n",
    "# Perform k-fold cross-validation manually\n",
    "for fold, (train_index, test_index) in enumerate(kf.split(X_tfidf, y)):\n",
    "    print(f\"Fold {fold + 1}\")\n",
    "    \n",
    "    # Split the data into training and testing sets for this fold using .iloc for positional indexing\n",
    "    X_train, X_test = X_tfidf[train_index], X_tfidf[test_index]\n",
    "    y_train, y_test = y.iloc[train_index], y.iloc[test_index]  # Use iloc to select by position\n",
    "    \n",
    "    # Fit the logistic regression model\n",
    "    log_reg_tf.fit(X_train, y_train)\n",
    "    \n",
    "    # Make predictions on the test set\n",
    "    y_pred = log_reg_tf.predict(X_test)\n",
    "    \n",
    "    # Update confusion matrix\n",
    "    conf_matrix = confusion_matrix(y_test, y_pred)\n",
    "    conf_matrix_sum += conf_matrix  # Accumulate the confusion matrices\n",
    "    \n",
    "     # Calculate and store metrics\n",
    "    accuracy_scores.append(accuracy_score(y_test, y_pred))\n",
    "    f1_scores.append(f1_score(y_test, y_pred))\n",
    "    precision_scores.append(precision_score(y_test, y_pred))\n",
    "    recall_scores.append(recall_score(y_test, y_pred))\n",
    "\n",
    "\n",
    "\n",
    "# Print the final averaged metrics\n",
    "print(\"\\n=== Final Averaged Metrics Across All Folds ===\")\n",
    "print(f'Mean Accuracy: {np.mean(accuracy_scores):.4f}')\n",
    "print(f'Mean F1 Score: {np.mean(f1_scores):.4f}')\n",
    "print(f'Mean Precision: {np.mean(precision_scores):.4f}')\n",
    "print(f'Mean Recall: {np.mean(recall_scores):.4f}')\n",
    "\n",
    "# Print the final summed confusion matrix\n",
    "print(\"\\n=== Final Summed Confusion Matrix Across All Folds ===\")\n",
    "print(conf_matrix_sum.astype(int))  # Convert to integer for cleaner display"
   ]
  },
  {
   "cell_type": "code",
   "execution_count": 28,
   "id": "6b8b50a9",
   "metadata": {},
   "outputs": [
    {
     "data": {
      "image/png": "[encoded data removed]",
      "text/plain": [
       "<Figure size 600x400 with 2 Axes>"
      ]
     },
     "metadata": {},
     "output_type": "display_data"
    }
   ],
   "source": [
    "# Plot confusion matrix\n",
    "conf_matrix = conf_matrix_sum.astype(int)\n",
    "plt.figure(figsize=(6,4))\n",
    "sns.heatmap(conf_matrix, annot=True, fmt='d', cmap='Blues', xticklabels=['Reliable', 'Unreliable'], yticklabels=['Reliable', 'Unreliable'])\n",
    "plt.ylabel('Actual')\n",
    "plt.xlabel('Predicted')\n",
    "plt.title('Confusion Matrix - Logistic Regression with TF-IDF')\n",
    "plt.show()"
   ]
  },
  {
   "cell_type": "code",
   "execution_count": 29,
   "id": "3e9d6322",
   "metadata": {},
   "outputs": [],
   "source": [
    "# Save the trained model to a file\n",
    "\n",
    "# joblib.dump(log_reg_tf, 'logistic_regression_model_tfidf.pkl')"
   ]
  },
  {
   "cell_type": "markdown",
   "id": "b8752ace",
   "metadata": {},
   "source": [
    "### 2. Naive Bayes"
   ]
  },
  {
   "cell_type": "code",
   "execution_count": 30,
   "id": "01cedd3b",
   "metadata": {},
   "outputs": [
    {
     "name": "stdout",
     "output_type": "stream",
     "text": [
      "Fold 1\n",
      "Fold 2\n",
      "Fold 3\n",
      "Fold 4\n",
      "Fold 5\n",
      "\n",
      "=== Final Averaged Metrics Across All Folds ===\n",
      "Mean Accuracy: 0.8921\n",
      "Mean F1 Score: 0.8854\n",
      "Mean Precision: 0.9247\n",
      "Mean Recall: 0.8494\n",
      "\n",
      "=== Final Summed Confusion Matrix Across All Folds ===\n",
      "[[9693  694]\n",
      " [1509 8513]]\n"
     ]
    }
   ],
   "source": [
    "# Initialize the Naive Bayes model\n",
    "naive_bayes_tf = MultinomialNB(alpha=1.0, fit_prior=True)\n",
    "\n",
    "# Initialize k-fold cross-validation\n",
    "\n",
    "kf = StratifiedKFold(n_splits= 5, shuffle=True)\n",
    "\n",
    "# Initialize metrics to accumulate results\n",
    "conf_matrix_sum = np.zeros((2, 2))  # for binary classification (2x2 confusion matrix)\n",
    "\n",
    "# Lists to store metrics for each fold\n",
    "accuracy_scores = []\n",
    "f1_scores = []\n",
    "precision_scores = []\n",
    "recall_scores = []\n",
    "\n",
    "# Perform k-fold cross-validation manually\n",
    "for fold, (train_index, test_index) in enumerate(kf.split(X_tfidf, y)):\n",
    "    print(f\"Fold {fold + 1}\")\n",
    "    \n",
    "    # Split the data into training and testing sets for this fold using .iloc for positional indexing\n",
    "    X_train, X_test = X_tfidf[train_index], X_tfidf[test_index]\n",
    "    y_train, y_test = y.iloc[train_index], y.iloc[test_index]  # Use iloc to select by position\n",
    "    \n",
    "    # Fit the logistic regression model\n",
    "    naive_bayes_tf.fit(X_train, y_train)\n",
    "    \n",
    "    # Make predictions on the test set\n",
    "    y_pred = naive_bayes_tf.predict(X_test)\n",
    "    \n",
    "    # Update confusion matrix\n",
    "    conf_matrix = confusion_matrix(y_test, y_pred)\n",
    "    conf_matrix_sum += conf_matrix  # Accumulate the confusion matrices\n",
    "    \n",
    "     # Calculate and store metrics\n",
    "    accuracy_scores.append(accuracy_score(y_test, y_pred))\n",
    "    f1_scores.append(f1_score(y_test, y_pred))\n",
    "    precision_scores.append(precision_score(y_test, y_pred))\n",
    "    recall_scores.append(recall_score(y_test, y_pred))\n",
    "\n",
    "\n",
    "\n",
    "# Print the final averaged metrics\n",
    "print(\"\\n=== Final Averaged Metrics Across All Folds ===\")\n",
    "print(f'Mean Accuracy: {np.mean(accuracy_scores):.4f}')\n",
    "print(f'Mean F1 Score: {np.mean(f1_scores):.4f}')\n",
    "print(f'Mean Precision: {np.mean(precision_scores):.4f}')\n",
    "print(f'Mean Recall: {np.mean(recall_scores):.4f}')\n",
    "\n",
    "# Print the final summed confusion matrix\n",
    "print(\"\\n=== Final Summed Confusion Matrix Across All Folds ===\")\n",
    "print(conf_matrix_sum.astype(int))  # Convert to integer for cleaner display"
   ]
  },
  {
   "cell_type": "code",
   "execution_count": 31,
   "id": "8f50e4da",
   "metadata": {},
   "outputs": [
    {
     "data": {
      "image/png": "[encoded data removed]",
      "text/plain": [
       "<Figure size 600x400 with 2 Axes>"
      ]
     },
     "metadata": {},
     "output_type": "display_data"
    }
   ],
   "source": [
    "# Plot confusion matrix\n",
    "conf_matrix = conf_matrix_sum.astype(int)\n",
    "plt.figure(figsize=(6,4))\n",
    "sns.heatmap(conf_matrix, annot=True, fmt='d', cmap='Blues', xticklabels=['Reliable', 'Unreliable'], yticklabels=['Reliable', 'Unreliable'])\n",
    "plt.ylabel('Actual')\n",
    "plt.xlabel('Predicted')\n",
    "plt.title('Confusion Matrix - Naive Bayes with TF-IDF')\n",
    "plt.show()"
   ]
  },
  {
   "cell_type": "code",
   "execution_count": 32,
   "id": "321eede6",
   "metadata": {},
   "outputs": [],
   "source": [
    "# Save the trained model to a file\n",
    "\n",
    "# joblib.dump(naive_bayes_tf, 'naive_bayes_model_tfidf.pkl')"
   ]
  },
  {
   "cell_type": "markdown",
   "id": "418c6b97",
   "metadata": {},
   "source": [
    "### 3. Stochastic Gradient Descent (SGD)"
   ]
  },
  {
   "cell_type": "code",
   "execution_count": 57,
   "id": "71d62eef",
   "metadata": {},
   "outputs": [
    {
     "name": "stdout",
     "output_type": "stream",
     "text": [
      "Fold 1\n",
      "Fold 2\n",
      "Fold 3\n",
      "Fold 4\n",
      "Fold 5\n",
      "\n",
      "=== Final Averaged Metrics Across All Folds ===\n",
      "Mean Accuracy: 0.9347\n",
      "Mean F1 Score: 0.9332\n",
      "Mean Precision: 0.9380\n",
      "Mean Recall: 0.9285\n",
      "\n",
      "=== Final Summed Confusion Matrix Across All Folds ===\n",
      "[[9772  615]\n",
      " [ 717 9305]]\n"
     ]
    }
   ],
   "source": [
    "# Initialize the Stochastic Gradient Descent (SGD) Classifier\n",
    "sgd_tf = SGDClassifier(loss='log_loss', penalty='l2', max_iter=1000, tol=1e-3, random_state=42)\n",
    "\n",
    "# Initialize k-fold cross-validation\n",
    "\n",
    "kf = StratifiedKFold(n_splits= 5, shuffle=True)\n",
    "\n",
    "# Initialize metrics to accumulate results\n",
    "conf_matrix_sum = np.zeros((2, 2))  # for binary classification (2x2 confusion matrix)\n",
    "\n",
    "# Lists to store metrics for each fold\n",
    "accuracy_scores = []\n",
    "f1_scores = []\n",
    "precision_scores = []\n",
    "recall_scores = []\n",
    "\n",
    "# Perform k-fold cross-validation manually\n",
    "for fold, (train_index, test_index) in enumerate(kf.split(X_tfidf, y)):\n",
    "    print(f\"Fold {fold + 1}\")\n",
    "    \n",
    "    # Split the data into training and testing sets for this fold using .iloc for positional indexing\n",
    "    X_train, X_test = X_tfidf[train_index], X_tfidf[test_index]\n",
    "    y_train, y_test = y.iloc[train_index], y.iloc[test_index]  # Use iloc to select by position\n",
    "    \n",
    "    # Fit the logistic regression model\n",
    "    sgd_tf.fit(X_train, y_train)\n",
    "    \n",
    "    # Make predictions on the test set\n",
    "    y_pred = sgd_tf.predict(X_test)\n",
    "    \n",
    "    # Update confusion matrix\n",
    "    conf_matrix = confusion_matrix(y_test, y_pred)\n",
    "    conf_matrix_sum += conf_matrix  # Accumulate the confusion matrices\n",
    "    \n",
    "     # Calculate and store metrics\n",
    "    accuracy_scores.append(accuracy_score(y_test, y_pred))\n",
    "    f1_scores.append(f1_score(y_test, y_pred))\n",
    "    precision_scores.append(precision_score(y_test, y_pred))\n",
    "    recall_scores.append(recall_score(y_test, y_pred))\n",
    "\n",
    "\n",
    "\n",
    "# Print the final averaged metrics\n",
    "print(\"\\n=== Final Averaged Metrics Across All Folds ===\")\n",
    "print(f'Mean Accuracy: {np.mean(accuracy_scores):.4f}')\n",
    "print(f'Mean F1 Score: {np.mean(f1_scores):.4f}')\n",
    "print(f'Mean Precision: {np.mean(precision_scores):.4f}')\n",
    "print(f'Mean Recall: {np.mean(recall_scores):.4f}')\n",
    "\n",
    "# Print the final summed confusion matrix\n",
    "print(\"\\n=== Final Summed Confusion Matrix Across All Folds ===\")\n",
    "print(conf_matrix_sum.astype(int))  # Convert to integer for cleaner display"
   ]
  },
  {
   "cell_type": "code",
   "execution_count": 34,
   "id": "08038fa4",
   "metadata": {},
   "outputs": [
    {
     "data": {
      "image/png": "[encoded data removed]",
      "text/plain": [
       "<Figure size 600x400 with 2 Axes>"
      ]
     },
     "metadata": {},
     "output_type": "display_data"
    }
   ],
   "source": [
    "# Plot confusion matrix\n",
    "conf_matrix = conf_matrix_sum.astype(int)\n",
    "plt.figure(figsize=(6,4))\n",
    "sns.heatmap(conf_matrix, annot=True, fmt='d', cmap='Blues', xticklabels=['Reliable', 'Unreliable'], yticklabels=['Reliable', 'Unreliable'])\n",
    "plt.ylabel('Actual')\n",
    "plt.xlabel('Predicted')\n",
    "plt.title('Confusion Matrix - SGD Classifier with TF-IDF')\n",
    "plt.show()"
   ]
  },
  {
   "cell_type": "code",
   "execution_count": 52,
   "id": "d6d59166",
   "metadata": {},
   "outputs": [
    {
     "data": {
      "text/plain": [
       "['stochastic_gradient_descent_model_tfidf.pkl']"
      ]
     },
     "execution_count": 52,
     "metadata": {},
     "output_type": "execute_result"
    }
   ],
   "source": [
    "# Save the trained model to a file\n",
    "\n",
    "joblib.dump(sgd_tf, 'stochastic_gradient_descent_model_tfidf.pkl')"
   ]
  },
  {
   "cell_type": "markdown",
   "id": "b9b16028",
   "metadata": {},
   "source": [
    "### 4. K-Nearest Neighbors (KNN)"
   ]
  },
  {
   "cell_type": "code",
   "execution_count": 36,
   "id": "a08c2d8a",
   "metadata": {},
   "outputs": [
    {
     "name": "stdout",
     "output_type": "stream",
     "text": [
      "Fold 1\n",
      "Fold 2\n",
      "Fold 3\n",
      "Fold 4\n",
      "Fold 5\n",
      "\n",
      "=== Final Averaged Metrics Across All Folds ===\n",
      "Mean Accuracy: 0.5767\n",
      "Mean F1 Score: 0.6956\n",
      "Mean Precision: 0.5376\n",
      "Mean Recall: 0.9849\n",
      "\n",
      "=== Final Summed Confusion Matrix Across All Folds ===\n",
      "[[1898 8489]\n",
      " [ 151 9871]]\n"
     ]
    }
   ],
   "source": [
    "# Initialize the KNN model\n",
    "knn_tf = KNeighborsClassifier(n_neighbors=5, metric='minkowski', p=2)  # p=2 means Euclidean distance\n",
    "\n",
    "\n",
    "# Initialize k-fold cross-validation\n",
    "kf = StratifiedKFold(n_splits= 5, shuffle=True)\n",
    "\n",
    "# Initialize metrics to accumulate results\n",
    "conf_matrix_sum = np.zeros((2, 2))  # for binary classification (2x2 confusion matrix)\n",
    "\n",
    "# Lists to store metrics for each fold\n",
    "accuracy_scores = []\n",
    "f1_scores = []\n",
    "precision_scores = []\n",
    "recall_scores = []\n",
    "\n",
    "# Perform k-fold cross-validation manually\n",
    "for fold, (train_index, test_index) in enumerate(kf.split(X_tfidf, y)):\n",
    "    print(f\"Fold {fold + 1}\")\n",
    "    \n",
    "    # Split the data into training and testing sets for this fold using .iloc for positional indexing\n",
    "    X_train, X_test = X_tfidf[train_index], X_tfidf[test_index]\n",
    "    y_train, y_test = y.iloc[train_index], y.iloc[test_index]  # Use iloc to select by position\n",
    "    \n",
    "    # Fit the logistic regression model\n",
    "    knn_tf.fit(X_train, y_train)\n",
    "    \n",
    "    # Make predictions on the test set\n",
    "    y_pred = knn_tf.predict(X_test)\n",
    "    \n",
    "    # Update confusion matrix\n",
    "    conf_matrix = confusion_matrix(y_test, y_pred)\n",
    "    conf_matrix_sum += conf_matrix  # Accumulate the confusion matrices\n",
    "    \n",
    "     # Calculate and store metrics\n",
    "    accuracy_scores.append(accuracy_score(y_test, y_pred))\n",
    "    f1_scores.append(f1_score(y_test, y_pred))\n",
    "    precision_scores.append(precision_score(y_test, y_pred))\n",
    "    recall_scores.append(recall_score(y_test, y_pred))\n",
    "\n",
    "\n",
    "\n",
    "# Print the final averaged metrics\n",
    "print(\"\\n=== Final Averaged Metrics Across All Folds ===\")\n",
    "print(f'Mean Accuracy: {np.mean(accuracy_scores):.4f}')\n",
    "print(f'Mean F1 Score: {np.mean(f1_scores):.4f}')\n",
    "print(f'Mean Precision: {np.mean(precision_scores):.4f}')\n",
    "print(f'Mean Recall: {np.mean(recall_scores):.4f}')\n",
    "\n",
    "# Print the final summed confusion matrix\n",
    "print(\"\\n=== Final Summed Confusion Matrix Across All Folds ===\")\n",
    "print(conf_matrix_sum.astype(int))  # Convert to integer for cleaner display"
   ]
  },
  {
   "cell_type": "code",
   "execution_count": 37,
   "id": "e3b9351f",
   "metadata": {},
   "outputs": [
    {
     "data": {
      "image/png": "[encoded data removed]",
      "text/plain": [
       "<Figure size 600x400 with 2 Axes>"
      ]
     },
     "metadata": {},
     "output_type": "display_data"
    }
   ],
   "source": [
    "# Plot confusion matrix\n",
    "conf_matrix = conf_matrix_sum.astype(int)\n",
    "plt.figure(figsize=(6,4))\n",
    "sns.heatmap(conf_matrix, annot=True, fmt='d', cmap='Blues', xticklabels=['Reliable', 'Unreliable'], yticklabels=['Reliable', 'Unreliable'])\n",
    "plt.ylabel('Actual')\n",
    "plt.xlabel('Predicted')\n",
    "plt.title('Confusion Matrix - K-Nearest Neighbors with TF-IDF')\n",
    "plt.show()"
   ]
  },
  {
   "cell_type": "code",
   "execution_count": 38,
   "id": "c9ac52f6",
   "metadata": {},
   "outputs": [],
   "source": [
    "# Save the trained model to a file\n",
    "\n",
    "# joblib.dump(knn_tf, 'k-nearest_neighbors_model_tfidf.pkl')"
   ]
  },
  {
   "cell_type": "markdown",
   "id": "87d480c4",
   "metadata": {},
   "source": [
    "### 5. Decision Tree"
   ]
  },
  {
   "cell_type": "code",
   "execution_count": 39,
   "id": "8ce68ded",
   "metadata": {},
   "outputs": [
    {
     "name": "stdout",
     "output_type": "stream",
     "text": [
      "Fold 1\n",
      "Fold 2\n",
      "Fold 3\n",
      "Fold 4\n",
      "Fold 5\n",
      "\n",
      "=== Final Averaged Metrics Across All Folds ===\n",
      "Mean Accuracy: 0.8362\n",
      "Mean F1 Score: 0.8338\n",
      "Mean Precision: 0.8306\n",
      "Mean Recall: 0.8371\n",
      "\n",
      "=== Final Summed Confusion Matrix Across All Folds ===\n",
      "[[8676 1711]\n",
      " [1633 8389]]\n"
     ]
    }
   ],
   "source": [
    "# Initialize the Decision Tree model\n",
    "decision_tree_tf = DecisionTreeClassifier(criterion='gini', splitter='best', max_depth=None, random_state=42)\n",
    "\n",
    "\n",
    "# Initialize k-fold cross-validation\n",
    "kf = StratifiedKFold(n_splits= 5, shuffle=True)\n",
    "\n",
    "# Initialize metrics to accumulate results\n",
    "conf_matrix_sum = np.zeros((2, 2))  # for binary classification (2x2 confusion matrix)\n",
    "\n",
    "# Lists to store metrics for each fold\n",
    "accuracy_scores = []\n",
    "f1_scores = []\n",
    "precision_scores = []\n",
    "recall_scores = []\n",
    "\n",
    "# Perform k-fold cross-validation manually\n",
    "for fold, (train_index, test_index) in enumerate(kf.split(X_tfidf, y)):\n",
    "    print(f\"Fold {fold + 1}\")\n",
    "    \n",
    "    # Split the data into training and testing sets for this fold using .iloc for positional indexing\n",
    "    X_train, X_test = X_tfidf[train_index], X_tfidf[test_index]\n",
    "    y_train, y_test = y.iloc[train_index], y.iloc[test_index]  # Use iloc to select by position\n",
    "    \n",
    "    # Fit the logistic regression model\n",
    "    decision_tree_tf.fit(X_train, y_train)\n",
    "    \n",
    "    # Make predictions on the test set\n",
    "    y_pred = decision_tree_tf.predict(X_test)\n",
    "    \n",
    "    # Update confusion matrix\n",
    "    conf_matrix = confusion_matrix(y_test, y_pred)\n",
    "    conf_matrix_sum += conf_matrix  # Accumulate the confusion matrices\n",
    "    \n",
    "     # Calculate and store metrics\n",
    "    accuracy_scores.append(accuracy_score(y_test, y_pred))\n",
    "    f1_scores.append(f1_score(y_test, y_pred))\n",
    "    precision_scores.append(precision_score(y_test, y_pred))\n",
    "    recall_scores.append(recall_score(y_test, y_pred))\n",
    "\n",
    "\n",
    "\n",
    "# Print the final averaged metrics\n",
    "print(\"\\n=== Final Averaged Metrics Across All Folds ===\")\n",
    "print(f'Mean Accuracy: {np.mean(accuracy_scores):.4f}')\n",
    "print(f'Mean F1 Score: {np.mean(f1_scores):.4f}')\n",
    "print(f'Mean Precision: {np.mean(precision_scores):.4f}')\n",
    "print(f'Mean Recall: {np.mean(recall_scores):.4f}')\n",
    "\n",
    "# Print the final summed confusion matrix\n",
    "print(\"\\n=== Final Summed Confusion Matrix Across All Folds ===\")\n",
    "print(conf_matrix_sum.astype(int))  # Convert to integer for cleaner display"
   ]
  },
  {
   "cell_type": "code",
   "execution_count": 40,
   "id": "efd750a6",
   "metadata": {},
   "outputs": [
    {
     "data": {
      "image/png": "[encoded data removed]",
      "text/plain": [
       "<Figure size 600x400 with 2 Axes>"
      ]
     },
     "metadata": {},
     "output_type": "display_data"
    }
   ],
   "source": [
    "# Plot confusion matrix\n",
    "conf_matrix = conf_matrix_sum.astype(int)\n",
    "plt.figure(figsize=(6,4))\n",
    "sns.heatmap(conf_matrix, annot=True, fmt='d', cmap='Blues', xticklabels=['Reliable', 'Unreliable'], yticklabels=['Reliable', 'Unreliable'])\n",
    "plt.ylabel('Actual')\n",
    "plt.xlabel('Predicted')\n",
    "plt.title('Confusion Matrix - Decision Trees with TF-IDF')\n",
    "plt.show()"
   ]
  },
  {
   "cell_type": "code",
   "execution_count": 41,
   "id": "e70f1bf9",
   "metadata": {},
   "outputs": [],
   "source": [
    "# Save the trained model to a file\n",
    "\n",
    "# joblib.dump(decision_tree_tf, 'decision_tree_model_tfidf.pkl')"
   ]
  },
  {
   "cell_type": "markdown",
   "id": "0fcb1481",
   "metadata": {},
   "source": [
    "### 6. Random Forest"
   ]
  },
  {
   "cell_type": "code",
   "execution_count": 42,
   "id": "a7f3e4b4",
   "metadata": {},
   "outputs": [
    {
     "name": "stdout",
     "output_type": "stream",
     "text": [
      "Fold 1\n",
      "Fold 2\n",
      "Fold 3\n",
      "Fold 4\n",
      "Fold 5\n",
      "\n",
      "=== Final Averaged Metrics Across All Folds ===\n",
      "Mean Accuracy: 0.9228\n",
      "Mean F1 Score: 0.9195\n",
      "Mean Precision: 0.9424\n",
      "Mean Recall: 0.8977\n",
      "\n",
      "=== Final Summed Confusion Matrix Across All Folds ===\n",
      "[[9837  550]\n",
      " [1025 8997]]\n"
     ]
    }
   ],
   "source": [
    "# Initialize the Random Forest model\n",
    "random_forest_tf = RandomForestClassifier(n_estimators=100, criterion='gini', max_depth=None, random_state=42, n_jobs=-1)\n",
    "\n",
    "\n",
    "# Initialize k-fold cross-validation\n",
    "kf = StratifiedKFold(n_splits= 5, shuffle=True)\n",
    "\n",
    "# Initialize metrics to accumulate results\n",
    "conf_matrix_sum = np.zeros((2, 2))  # for binary classification (2x2 confusion matrix)\n",
    "\n",
    "# Lists to store metrics for each fold\n",
    "accuracy_scores = []\n",
    "f1_scores = []\n",
    "precision_scores = []\n",
    "recall_scores = []\n",
    "\n",
    "# Perform k-fold cross-validation manually\n",
    "for fold, (train_index, test_index) in enumerate(kf.split(X_tfidf, y)):\n",
    "    print(f\"Fold {fold + 1}\")\n",
    "    \n",
    "    # Split the data into training and testing sets for this fold using .iloc for positional indexing\n",
    "    X_train, X_test = X_tfidf[train_index], X_tfidf[test_index]\n",
    "    y_train, y_test = y.iloc[train_index], y.iloc[test_index]  # Use iloc to select by position\n",
    "    \n",
    "    # Fit the logistic regression model\n",
    "    random_forest_tf.fit(X_train, y_train)\n",
    "    \n",
    "    # Make predictions on the test set\n",
    "    y_pred = random_forest_tf.predict(X_test)\n",
    "    \n",
    "    # Update confusion matrix\n",
    "    conf_matrix = confusion_matrix(y_test, y_pred)\n",
    "    conf_matrix_sum += conf_matrix  # Accumulate the confusion matrices\n",
    "    \n",
    "     # Calculate and store metrics\n",
    "    accuracy_scores.append(accuracy_score(y_test, y_pred))\n",
    "    f1_scores.append(f1_score(y_test, y_pred))\n",
    "    precision_scores.append(precision_score(y_test, y_pred))\n",
    "    recall_scores.append(recall_score(y_test, y_pred))\n",
    "\n",
    "\n",
    "\n",
    "# Print the final averaged metrics\n",
    "print(\"\\n=== Final Averaged Metrics Across All Folds ===\")\n",
    "print(f'Mean Accuracy: {np.mean(accuracy_scores):.4f}')\n",
    "print(f'Mean F1 Score: {np.mean(f1_scores):.4f}')\n",
    "print(f'Mean Precision: {np.mean(precision_scores):.4f}')\n",
    "print(f'Mean Recall: {np.mean(recall_scores):.4f}')\n",
    "\n",
    "# Print the final summed confusion matrix\n",
    "print(\"\\n=== Final Summed Confusion Matrix Across All Folds ===\")\n",
    "print(conf_matrix_sum.astype(int))  # Convert to integer for cleaner display"
   ]
  },
  {
   "cell_type": "code",
   "execution_count": 43,
   "id": "fadc1272",
   "metadata": {},
   "outputs": [
    {
     "data": {
      "image/png": "[encoded data removed]",
      "text/plain": [
       "<Figure size 600x400 with 2 Axes>"
      ]
     },
     "metadata": {},
     "output_type": "display_data"
    }
   ],
   "source": [
    "# Plot confusion matrix\n",
    "conf_matrix = conf_matrix_sum.astype(int)\n",
    "plt.figure(figsize=(6,4))\n",
    "sns.heatmap(conf_matrix, annot=True, fmt='d', cmap='Blues', xticklabels=['Reliable', 'Unreliable'], yticklabels=['Reliable', 'Unreliable'])\n",
    "plt.ylabel('Actual')\n",
    "plt.xlabel('Predicted')\n",
    "plt.title('Confusion Matrix - Random Forest with TF-IDF')\n",
    "plt.show()"
   ]
  },
  {
   "cell_type": "code",
   "execution_count": 44,
   "id": "d260cb96",
   "metadata": {},
   "outputs": [],
   "source": [
    "# Save the trained model to a file\n",
    "\n",
    "# joblib.dump(random_forest_tf, 'random_forest_model_tfidf.pkl')"
   ]
  },
  {
   "cell_type": "markdown",
   "id": "1eb3d4f3",
   "metadata": {},
   "source": [
    "### 7. Support Vector Machine (SVM)"
   ]
  },
  {
   "cell_type": "code",
   "execution_count": 54,
   "id": "ce22f25c",
   "metadata": {},
   "outputs": [
    {
     "name": "stdout",
     "output_type": "stream",
     "text": [
      "Fold 1\n",
      "Fold 2\n",
      "Fold 3\n",
      "Fold 4\n",
      "Fold 5\n",
      "\n",
      "=== Final Averaged Metrics Across All Folds ===\n",
      "Mean Accuracy: 0.9476\n",
      "Mean F1 Score: 0.9465\n",
      "Mean Precision: 0.9491\n",
      "Mean Recall: 0.9440\n",
      "\n",
      "=== Final Summed Confusion Matrix Across All Folds ===\n",
      "[[9879  508]\n",
      " [ 561 9461]]\n"
     ]
    }
   ],
   "source": [
    "# Initialize the Support Vector Machine model with a linear kernel\n",
    "svm_model_tf = SVC(kernel='linear', C=1.0, random_state=42, probability=True)\n",
    "\n",
    "\n",
    "# Initialize k-fold cross-validation\n",
    "kf = StratifiedKFold(n_splits= 5, shuffle=True)\n",
    "\n",
    "# Initialize metrics to accumulate results\n",
    "conf_matrix_sum = np.zeros((2, 2))  # for binary classification (2x2 confusion matrix)\n",
    "\n",
    "# Lists to store metrics for each fold\n",
    "accuracy_scores = []\n",
    "f1_scores = []\n",
    "precision_scores = []\n",
    "recall_scores = []\n",
    "\n",
    "# Perform k-fold cross-validation manually\n",
    "for fold, (train_index, test_index) in enumerate(kf.split(X_tfidf, y)):\n",
    "    print(f\"Fold {fold + 1}\")\n",
    "    \n",
    "    # Split the data into training and testing sets for this fold using .iloc for positional indexing\n",
    "    X_train, X_test = X_tfidf[train_index], X_tfidf[test_index]\n",
    "    y_train, y_test = y.iloc[train_index], y.iloc[test_index]  # Use iloc to select by position\n",
    "    \n",
    "    # Fit the logistic regression model\n",
    "    svm_model_tf.fit(X_train, y_train)\n",
    "    \n",
    "    # Make predictions on the test set\n",
    "    y_pred = svm_model_tf.predict(X_test)\n",
    "    \n",
    "    # Update confusion matrix\n",
    "    conf_matrix = confusion_matrix(y_test, y_pred)\n",
    "    conf_matrix_sum += conf_matrix  # Accumulate the confusion matrices\n",
    "    \n",
    "     # Calculate and store metrics\n",
    "    accuracy_scores.append(accuracy_score(y_test, y_pred))\n",
    "    f1_scores.append(f1_score(y_test, y_pred))\n",
    "    precision_scores.append(precision_score(y_test, y_pred))\n",
    "    recall_scores.append(recall_score(y_test, y_pred))\n",
    "\n",
    "\n",
    "\n",
    "# Print the final averaged metrics\n",
    "print(\"\\n=== Final Averaged Metrics Across All Folds ===\")\n",
    "print(f'Mean Accuracy: {np.mean(accuracy_scores):.4f}')\n",
    "print(f'Mean F1 Score: {np.mean(f1_scores):.4f}')\n",
    "print(f'Mean Precision: {np.mean(precision_scores):.4f}')\n",
    "print(f'Mean Recall: {np.mean(recall_scores):.4f}')\n",
    "\n",
    "# Print the final summed confusion matrix\n",
    "print(\"\\n=== Final Summed Confusion Matrix Across All Folds ===\")\n",
    "print(conf_matrix_sum.astype(int))  # Convert to integer for cleaner display"
   ]
  },
  {
   "cell_type": "code",
   "execution_count": 55,
   "id": "86a1f6be",
   "metadata": {},
   "outputs": [
    {
     "data": {
      "image/png": "[encoded data removed]",
      "text/plain": [
       "<Figure size 600x400 with 2 Axes>"
      ]
     },
     "metadata": {},
     "output_type": "display_data"
    }
   ],
   "source": [
    "# Plot confusion matrix\n",
    "conf_matrix = conf_matrix_sum.astype(int)\n",
    "plt.figure(figsize=(6,4))\n",
    "sns.heatmap(conf_matrix, annot=True, fmt='d', cmap='Blues', xticklabels=['Reliable', 'Unreliable'], yticklabels=['Reliable', 'Unreliable'])\n",
    "plt.ylabel('Actual')\n",
    "plt.xlabel('Predicted')\n",
    "plt.title('Confusion Matrix - Support Vector Machine with TF-IDF')\n",
    "plt.show()"
   ]
  },
  {
   "cell_type": "code",
   "execution_count": 56,
   "id": "1be35c7e",
   "metadata": {},
   "outputs": [
    {
     "data": {
      "text/plain": [
       "['svm_model_tfidf.pkl']"
      ]
     },
     "execution_count": 56,
     "metadata": {},
     "output_type": "execute_result"
    }
   ],
   "source": [
    "# Save the trained model to a file\n",
    "\n",
    "joblib.dump(svm_model_tf, 'svm_model_tfidf.pkl')"
   ]
  },
  {
   "cell_type": "code",
   "execution_count": null,
   "id": "a8936ec4",
   "metadata": {},
   "outputs": [],
   "source": []
  }
 ],
 "metadata": {
  "kernelspec": {
   "display_name": "Python 3 (ipykernel)",
   "language": "python",
   "name": "python3"
  },
  "language_info": {
   "codemirror_mode": {
    "name": "ipython",
    "version": 3
   },
   "file_extension": ".py",
   "mimetype": "text/x-python",
   "name": "python",
   "nbconvert_exporter": "python",
   "pygments_lexer": "ipython3",
   "version": "3.9.13"
  }
 },
 "nbformat": 4,
 "nbformat_minor": 5
}
